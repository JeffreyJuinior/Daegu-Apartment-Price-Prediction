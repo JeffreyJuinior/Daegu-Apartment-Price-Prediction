{
 "cells": [
  {
   "cell_type": "markdown",
   "metadata": {},
   "source": [
    "### **Daegu Apartment Price Prediction**\n",
    "\n",
    "Created by: Jeffrey Junior Tedjasulaksana"
   ]
  },
  {
   "cell_type": "markdown",
   "metadata": {},
   "source": [
    "[Daegu apartment data source](https://www.kaggle.com/datasets/gunhee/koreahousedata)\n",
    "\n",
    "### **Contents**\n",
    "\n",
    "1. Business Problem Understanding\n",
    "2. Data Understanding\n",
    "3. Data Preprocessing\n",
    "4. Modeling\n",
    "5. Conclusion\n",
    "6. Recomendation\n",
    "\n",
    "****"
   ]
  },
  {
   "cell_type": "markdown",
   "metadata": {},
   "source": [
    "### **Businees Problem Understanding**"
   ]
  },
  {
   "cell_type": "markdown",
   "metadata": {},
   "source": [
    "**Context**\n",
    "\n",
    "[Daegu](https://en.wikipedia.org/wiki/Daegu) is South Korea's third-largest urban agglomeration after Seoul and Busan, the third-largest official metropolitan area in the country with over 2.5 million residents and the second-largest city in the Yeongnam region in the southeastern Korean Peninsula after Busan.\n",
    "\n",
    "Daegu was Korea's economic hub from the 1960s to the 1980s, and it was particularly well-known for its electronics industry. Daegu's humid subtropical climate is ideal for growing high-quality apples, hence the nickname \"Apple City.\" Daegu is also referred to as \"Textile City.\" Textiles were once the city's mainstay industry. Daegu is currently focusing on fostering fashion and high-tech industries.      \n",
    "        \n",
    "Because of Daegu's rapid development, the demand for apartment housing has increased. Daegu city [reached 240,000 apartments by 2021](https://www.statista.com/statistics/1303257/south-korea-apartments-in-daegu-by-number-of-stories/#statisticContainer). \n",
    "\n",
    "Because Korean citizens are so busy, they do not have enough time to meet with potential buyers, many apartment unit owners entrust property agents with sales transactions. The significance of determining property values can help to simplify property buying and selling transactions. According to [Statista](https://www.statista.com/statistics/1048638/south-korea-number-of-unsold-housings-daegu/) data, the number of properties in Daegu City that have not been sold by 2021 is 2000 property.\n",
    "\n",
    "According to the [ruhl and ruhl home web](https://www.ruhlhomes.com/selling-a-home/importance-to-price-right/#:~:text=Pricing%20your%20home%20at%20fair,sell%20at%20a%20lower%20price), pricing your property at a reasonable market value will attract potential buyers. The longer a property sits on the market, the lower its perceived value and the likelihood that it will be sold at a lower price. As a result, tools in an application are required to determine the estimated price of a property for property agent."
   ]
  },
  {
   "cell_type": "markdown",
   "metadata": {},
   "source": [
    "**Problem Statement**\n",
    "\n",
    "As the population in Daegu City increases, there will also be an increase in the need for housing, especially apartments in Daegu City. So that property agents must streamline the costs incurred to get maximum revenue.\n",
    "\n",
    "Based on research conducted by [Onur Demirci from the University of Westminster](https://westminsterresearch.westminster.ac.uk/download/2dae110e45564422696a65c873989232ffbea0a3e58d318a552b963485e4452f/570796/Research%20Paper%20-%20Traditional%20and%20Mass%20%28Advanced%29%20Valuation%20Methods.pdf), valuation is a process that involves defining the fair market. When valuing a group of properties, it is widely acknowledged that traditional valuation has numerous limitations. value of an entity Traditional valuation methods have significant limitations in terms of accuracy, consistency, and speed. "
   ]
  },
  {
   "cell_type": "markdown",
   "metadata": {},
   "source": [
    "**Goals**\n",
    "\n",
    "Based on research conducted by [Onur Demirci](https://westminsterresearch.westminster.ac.uk/download/2dae110e45564422696a65c873989232ffbea0a3e58d318a552b963485e4452f/570796/Research%20Paper%20-%20Traditional%20and%20Mass%20%28Advanced%29%20Valuation%20Methods.pdf), the weakness of Traditional Valuation can be overcome by conducting advance valuation with a regression machine learning model. With an increasing volume of transactions and a changing real estate market, advanced valuation (regression machine learning model) is becoming more applicable.\n",
    "\n",
    "So that tools in the form of machine learning models that have been made will be used when apartment unit owners want to sell apartment units through property agents, then property agents will enter apartment unit specifications that issue price predictions of apartment units to be marketed. And I as a machine learning engineer from a property agent company will create and maintain the tools that have been created."
   ]
  },
  {
   "cell_type": "markdown",
   "metadata": {},
   "source": [
    "**Analytic Approach**\n",
    "\n",
    "We must analyze features such as the type of hallway, travel time to the subway, facilities in and around the apartment, and the year of construction, all of which may affect the apartment's sale price.\n",
    "\n",
    "We can create a regression model based on the analysis results to to determine the price of the apartment unit based on the specifications owned."
   ]
  },
  {
   "cell_type": "markdown",
   "metadata": {},
   "source": [
    "**Metric Evaluation**\n",
    "\n",
    "To test the error rate of an already created model, we can use MAE and MAPE.\n",
    "\n",
    "MAE is the average value of absolute error because its characteristics that are less sensitive to outliers so MAE is better than MSE. \n",
    "\n",
    "![MAE](https://github.com/JeffreyJuinior/Daegu-Apartment-Price-Prediction/blob/main/Images/MAE.PNG?raw=true)\n",
    "\n",
    "MAPE is the average of the recidual absolute results in the form of percentages, just like MAE, MAPE has characteristics that are less sensitive to outliers because the target contains an outlier. Suitable for a very large target value range, the model is better at predicting the selling price of the apartment.\n",
    "\n",
    "![MAPE](https://github.com/JeffreyJuinior/Daegu-Apartment-Price-Prediction/blob/main/Images/MAPE.PNG?raw=true)\n",
    "\n",
    "We also use R-Square in model evaluation where R-Square explains how much variation in Y value can be explained by the model, The more the R-Squared value approaches 1, the better the model is at predicting apartment prices.\n",
    "\n",
    "![R2](https://github.com/JeffreyJuinior/Daegu-Apartment-Price-Prediction/blob/main/Images/r2.png?raw=true)"
   ]
  },
  {
   "cell_type": "markdown",
   "metadata": {},
   "source": [
    "### **Data Understanding**"
   ]
  },
  {
   "cell_type": "markdown",
   "metadata": {},
   "source": [
    "- Dataset obtained from the official website of the Korean government, namely [data.go.kr](https://www.data.go.kr/) from 2007 to 2017\n",
    "- Each row represents information related to the apartment\n",
    "\n",
    "**Attributes Information**\n",
    "\n",
    "|**Attribute** | **Data Type** | **Description** |\n",
    "| --- | --- | --- |\n",
    "| HallwayType | Object | Types of apartment hallways |\n",
    "| TimeToSubway | Object | Measure time takes from apartment to subway station  |\n",
    "| Subway Station | Object | Name of subway station nearby apartment |\n",
    "| N_FacilitiesNearBy(ETC) | Float | number of other facilities such as hotels and special schools |\n",
    "| N_FacilitiesNearBy(PublicOffice) | Float | Number of public offices nearby apartment |\n",
    "| N_SchoolNearBy(University) | Float | Number of universities nearby apartment |\n",
    "| N_Parkinglot(Basement) | Float | Count number of parking spaces on basement |\n",
    "| YearBuilt | Integer | The year when the apartment was created |\n",
    "| N_FacilitiesInApt | Integer | Number of facilities for residents like swimming pool, gym, play ground |\n",
    "| Size(sqf) | Integer | Size of apartment in square feet |\n",
    "| SalePrice | Integer | Apartment price in US dollar |"
   ]
  },
  {
   "cell_type": "code",
   "execution_count": 1,
   "metadata": {},
   "outputs": [],
   "source": [
    "# Import library\n",
    "import pandas as pd\n",
    "import numpy as np\n",
    "import seaborn as sns\n",
    "import matplotlib.pyplot as plt\n",
    "\n",
    "import warnings\n",
    "warnings.filterwarnings('ignore')"
   ]
  },
  {
   "cell_type": "code",
   "execution_count": 2,
   "metadata": {},
   "outputs": [
    {
     "data": {
      "text/html": [
       "<div>\n",
       "<style scoped>\n",
       "    .dataframe tbody tr th:only-of-type {\n",
       "        vertical-align: middle;\n",
       "    }\n",
       "\n",
       "    .dataframe tbody tr th {\n",
       "        vertical-align: top;\n",
       "    }\n",
       "\n",
       "    .dataframe thead th {\n",
       "        text-align: right;\n",
       "    }\n",
       "</style>\n",
       "<table border=\"1\" class=\"dataframe\">\n",
       "  <thead>\n",
       "    <tr style=\"text-align: right;\">\n",
       "      <th></th>\n",
       "      <th>HallwayType</th>\n",
       "      <th>TimeToSubway</th>\n",
       "      <th>SubwayStation</th>\n",
       "      <th>N_FacilitiesNearBy(ETC)</th>\n",
       "      <th>N_FacilitiesNearBy(PublicOffice)</th>\n",
       "      <th>N_SchoolNearBy(University)</th>\n",
       "      <th>N_Parkinglot(Basement)</th>\n",
       "      <th>YearBuilt</th>\n",
       "      <th>N_FacilitiesInApt</th>\n",
       "      <th>Size(sqf)</th>\n",
       "      <th>SalePrice</th>\n",
       "    </tr>\n",
       "  </thead>\n",
       "  <tbody>\n",
       "    <tr>\n",
       "      <th>0</th>\n",
       "      <td>terraced</td>\n",
       "      <td>0-5min</td>\n",
       "      <td>Kyungbuk_uni_hospital</td>\n",
       "      <td>0.0</td>\n",
       "      <td>3.0</td>\n",
       "      <td>2.0</td>\n",
       "      <td>1270.0</td>\n",
       "      <td>2007</td>\n",
       "      <td>10</td>\n",
       "      <td>1387</td>\n",
       "      <td>346017</td>\n",
       "    </tr>\n",
       "    <tr>\n",
       "      <th>1</th>\n",
       "      <td>terraced</td>\n",
       "      <td>10min~15min</td>\n",
       "      <td>Kyungbuk_uni_hospital</td>\n",
       "      <td>1.0</td>\n",
       "      <td>5.0</td>\n",
       "      <td>1.0</td>\n",
       "      <td>0.0</td>\n",
       "      <td>1986</td>\n",
       "      <td>4</td>\n",
       "      <td>914</td>\n",
       "      <td>150442</td>\n",
       "    </tr>\n",
       "    <tr>\n",
       "      <th>2</th>\n",
       "      <td>mixed</td>\n",
       "      <td>15min~20min</td>\n",
       "      <td>Chil-sung-market</td>\n",
       "      <td>1.0</td>\n",
       "      <td>7.0</td>\n",
       "      <td>3.0</td>\n",
       "      <td>56.0</td>\n",
       "      <td>1997</td>\n",
       "      <td>5</td>\n",
       "      <td>558</td>\n",
       "      <td>61946</td>\n",
       "    </tr>\n",
       "    <tr>\n",
       "      <th>3</th>\n",
       "      <td>mixed</td>\n",
       "      <td>5min~10min</td>\n",
       "      <td>Bangoge</td>\n",
       "      <td>5.0</td>\n",
       "      <td>5.0</td>\n",
       "      <td>4.0</td>\n",
       "      <td>798.0</td>\n",
       "      <td>2005</td>\n",
       "      <td>7</td>\n",
       "      <td>914</td>\n",
       "      <td>165486</td>\n",
       "    </tr>\n",
       "    <tr>\n",
       "      <th>4</th>\n",
       "      <td>terraced</td>\n",
       "      <td>0-5min</td>\n",
       "      <td>Sin-nam</td>\n",
       "      <td>0.0</td>\n",
       "      <td>1.0</td>\n",
       "      <td>2.0</td>\n",
       "      <td>536.0</td>\n",
       "      <td>2006</td>\n",
       "      <td>5</td>\n",
       "      <td>1743</td>\n",
       "      <td>311504</td>\n",
       "    </tr>\n",
       "  </tbody>\n",
       "</table>\n",
       "</div>"
      ],
      "text/plain": [
       "  HallwayType TimeToSubway          SubwayStation  N_FacilitiesNearBy(ETC)  \\\n",
       "0    terraced       0-5min  Kyungbuk_uni_hospital                      0.0   \n",
       "1    terraced  10min~15min  Kyungbuk_uni_hospital                      1.0   \n",
       "2       mixed  15min~20min       Chil-sung-market                      1.0   \n",
       "3       mixed   5min~10min                Bangoge                      5.0   \n",
       "4    terraced       0-5min                Sin-nam                      0.0   \n",
       "\n",
       "   N_FacilitiesNearBy(PublicOffice)  N_SchoolNearBy(University)  \\\n",
       "0                               3.0                         2.0   \n",
       "1                               5.0                         1.0   \n",
       "2                               7.0                         3.0   \n",
       "3                               5.0                         4.0   \n",
       "4                               1.0                         2.0   \n",
       "\n",
       "   N_Parkinglot(Basement)  YearBuilt  N_FacilitiesInApt  Size(sqf)  SalePrice  \n",
       "0                  1270.0       2007                 10       1387     346017  \n",
       "1                     0.0       1986                  4        914     150442  \n",
       "2                    56.0       1997                  5        558      61946  \n",
       "3                   798.0       2005                  7        914     165486  \n",
       "4                   536.0       2006                  5       1743     311504  "
      ]
     },
     "execution_count": 2,
     "metadata": {},
     "output_type": "execute_result"
    }
   ],
   "source": [
    "# Loading dataset into pandas dataframe\n",
    "df = pd.read_csv('data_daegu_apartment.csv')\n",
    "df.head()"
   ]
  },
  {
   "cell_type": "markdown",
   "metadata": {},
   "source": [
    "### **Exploratory Data Analysis**"
   ]
  },
  {
   "cell_type": "markdown",
   "metadata": {},
   "source": [
    "Since the summation result does not produce a decimal number then we can continue the EDA process"
   ]
  },
  {
   "cell_type": "markdown",
   "metadata": {},
   "source": [
    "**Distribution of Daegu Apartement price**"
   ]
  },
  {
   "cell_type": "code",
   "execution_count": 3,
   "metadata": {},
   "outputs": [
    {
     "data": {
      "image/png": "[encoded data removed]",
      "text/plain": [
       "<Figure size 432x288 with 1 Axes>"
      ]
     },
     "metadata": {
      "needs_background": "light"
     },
     "output_type": "display_data"
    }
   ],
   "source": [
    "# Checking outliers on the target\n",
    "sns.boxplot(df['SalePrice'])\n",
    "plt.show()"
   ]
  },
  {
   "cell_type": "markdown",
   "metadata": {},
   "source": [
    "From the boxplot results above, it can be seen that the SalePrice feature which is the target there is a right skewed distribution"
   ]
  },
  {
   "cell_type": "code",
   "execution_count": 4,
   "metadata": {},
   "outputs": [
    {
     "name": "stdout",
     "output_type": "stream",
     "text": [
      "Number of apartments based on the nearest subway station: \n",
      "Kyungbuk_uni_hospital    1152\n",
      "Myung-duk                1044\n",
      "Banwoldang                529\n",
      "Bangoge                   502\n",
      "Sin-nam                   467\n",
      "no_subway_nearby          290\n",
      "Chil-sung-market           74\n",
      "Daegu                      65\n",
      "Name: SubwayStation, dtype: int64\n",
      "\n",
      "Number of apartments based on the hallway type: \n",
      "terraced    2528\n",
      "mixed       1131\n",
      "corridor     464\n",
      "Name: HallwayType, dtype: int64\n"
     ]
    }
   ],
   "source": [
    "# Check the number of apartments based on the nearest subway station and hallway type\n",
    "\n",
    "print(f\"Number of apartments based on the nearest subway station: \\n{df['SubwayStation'].value_counts()}\")\n",
    "print(f\"\\nNumber of apartments based on the hallway type: \\n{df['HallwayType'].value_counts()}\")\n"
   ]
  },
  {
   "cell_type": "markdown",
   "metadata": {},
   "source": [
    "Most apartments are located close to the subway station Kyungbuk_uni_hospital and Myung-duk and also the type of hallway that is sold mostly terrace and mixed"
   ]
  },
  {
   "cell_type": "code",
   "execution_count": 5,
   "metadata": {},
   "outputs": [
    {
     "data": {
      "text/html": [
       "<div>\n",
       "<style scoped>\n",
       "    .dataframe tbody tr th:only-of-type {\n",
       "        vertical-align: middle;\n",
       "    }\n",
       "\n",
       "    .dataframe tbody tr th {\n",
       "        vertical-align: top;\n",
       "    }\n",
       "\n",
       "    .dataframe thead th {\n",
       "        text-align: right;\n",
       "    }\n",
       "</style>\n",
       "<table border=\"1\" class=\"dataframe\">\n",
       "  <thead>\n",
       "    <tr style=\"text-align: right;\">\n",
       "      <th>HallwayType</th>\n",
       "      <th>corridor</th>\n",
       "      <th>mixed</th>\n",
       "      <th>terraced</th>\n",
       "      <th>All</th>\n",
       "    </tr>\n",
       "    <tr>\n",
       "      <th>SubwayStation</th>\n",
       "      <th></th>\n",
       "      <th></th>\n",
       "      <th></th>\n",
       "      <th></th>\n",
       "    </tr>\n",
       "  </thead>\n",
       "  <tbody>\n",
       "    <tr>\n",
       "      <th>All</th>\n",
       "      <td>464</td>\n",
       "      <td>1131</td>\n",
       "      <td>2528</td>\n",
       "      <td>4123</td>\n",
       "    </tr>\n",
       "    <tr>\n",
       "      <th>Kyungbuk_uni_hospital</th>\n",
       "      <td>49</td>\n",
       "      <td>0</td>\n",
       "      <td>1103</td>\n",
       "      <td>1152</td>\n",
       "    </tr>\n",
       "    <tr>\n",
       "      <th>Myung-duk</th>\n",
       "      <td>222</td>\n",
       "      <td>555</td>\n",
       "      <td>267</td>\n",
       "      <td>1044</td>\n",
       "    </tr>\n",
       "    <tr>\n",
       "      <th>Banwoldang</th>\n",
       "      <td>50</td>\n",
       "      <td>0</td>\n",
       "      <td>479</td>\n",
       "      <td>529</td>\n",
       "    </tr>\n",
       "    <tr>\n",
       "      <th>Bangoge</th>\n",
       "      <td>0</td>\n",
       "      <td>502</td>\n",
       "      <td>0</td>\n",
       "      <td>502</td>\n",
       "    </tr>\n",
       "    <tr>\n",
       "      <th>Sin-nam</th>\n",
       "      <td>51</td>\n",
       "      <td>0</td>\n",
       "      <td>416</td>\n",
       "      <td>467</td>\n",
       "    </tr>\n",
       "    <tr>\n",
       "      <th>no_subway_nearby</th>\n",
       "      <td>41</td>\n",
       "      <td>0</td>\n",
       "      <td>249</td>\n",
       "      <td>290</td>\n",
       "    </tr>\n",
       "    <tr>\n",
       "      <th>Chil-sung-market</th>\n",
       "      <td>0</td>\n",
       "      <td>74</td>\n",
       "      <td>0</td>\n",
       "      <td>74</td>\n",
       "    </tr>\n",
       "    <tr>\n",
       "      <th>Daegu</th>\n",
       "      <td>51</td>\n",
       "      <td>0</td>\n",
       "      <td>14</td>\n",
       "      <td>65</td>\n",
       "    </tr>\n",
       "  </tbody>\n",
       "</table>\n",
       "</div>"
      ],
      "text/plain": [
       "HallwayType            corridor  mixed  terraced   All\n",
       "SubwayStation                                         \n",
       "All                         464   1131      2528  4123\n",
       "Kyungbuk_uni_hospital        49      0      1103  1152\n",
       "Myung-duk                   222    555       267  1044\n",
       "Banwoldang                   50      0       479   529\n",
       "Bangoge                       0    502         0   502\n",
       "Sin-nam                      51      0       416   467\n",
       "no_subway_nearby             41      0       249   290\n",
       "Chil-sung-market              0     74         0    74\n",
       "Daegu                        51      0        14    65"
      ]
     },
     "execution_count": 5,
     "metadata": {},
     "output_type": "execute_result"
    }
   ],
   "source": [
    "pd.crosstab(df['SubwayStation'],df['HallwayType'], margins=True).sort_values('All',ascending=False)"
   ]
  },
  {
   "cell_type": "markdown",
   "metadata": {},
   "source": [
    "Most types of hallway apartments that are near the **Kyungbuk_uni_hospital subway station are terraced**, while apartments located near the **Myung-duk subway station are dominated by mixed although the difference is not too significant with other types**."
   ]
  },
  {
   "cell_type": "code",
   "execution_count": 6,
   "metadata": {},
   "outputs": [
    {
     "data": {
      "text/html": [
       "<div>\n",
       "<style scoped>\n",
       "    .dataframe tbody tr th:only-of-type {\n",
       "        vertical-align: middle;\n",
       "    }\n",
       "\n",
       "    .dataframe tbody tr th {\n",
       "        vertical-align: top;\n",
       "    }\n",
       "\n",
       "    .dataframe thead th {\n",
       "        text-align: right;\n",
       "    }\n",
       "</style>\n",
       "<table border=\"1\" class=\"dataframe\">\n",
       "  <thead>\n",
       "    <tr style=\"text-align: right;\">\n",
       "      <th>col_0</th>\n",
       "      <th>SalePrice</th>\n",
       "    </tr>\n",
       "    <tr>\n",
       "      <th>SubwayStation</th>\n",
       "      <th></th>\n",
       "    </tr>\n",
       "  </thead>\n",
       "  <tbody>\n",
       "    <tr>\n",
       "      <th>Banwoldang</th>\n",
       "      <td>315929.0</td>\n",
       "    </tr>\n",
       "    <tr>\n",
       "      <th>Sin-nam</th>\n",
       "      <td>247787.0</td>\n",
       "    </tr>\n",
       "    <tr>\n",
       "      <th>Kyungbuk_uni_hospital</th>\n",
       "      <td>238938.0</td>\n",
       "    </tr>\n",
       "    <tr>\n",
       "      <th>no_subway_nearby</th>\n",
       "      <td>207743.0</td>\n",
       "    </tr>\n",
       "    <tr>\n",
       "      <th>Bangoge</th>\n",
       "      <td>167035.0</td>\n",
       "    </tr>\n",
       "    <tr>\n",
       "      <th>Myung-duk</th>\n",
       "      <td>154424.5</td>\n",
       "    </tr>\n",
       "    <tr>\n",
       "      <th>Chil-sung-market</th>\n",
       "      <td>88495.0</td>\n",
       "    </tr>\n",
       "    <tr>\n",
       "      <th>Daegu</th>\n",
       "      <td>86725.0</td>\n",
       "    </tr>\n",
       "  </tbody>\n",
       "</table>\n",
       "</div>"
      ],
      "text/plain": [
       "col_0                  SalePrice\n",
       "SubwayStation                   \n",
       "Banwoldang              315929.0\n",
       "Sin-nam                 247787.0\n",
       "Kyungbuk_uni_hospital   238938.0\n",
       "no_subway_nearby        207743.0\n",
       "Bangoge                 167035.0\n",
       "Myung-duk               154424.5\n",
       "Chil-sung-market         88495.0\n",
       "Daegu                    86725.0"
      ]
     },
     "execution_count": 6,
     "metadata": {},
     "output_type": "execute_result"
    }
   ],
   "source": [
    "# Check the median value sale price based on the nearest subway station\n",
    "\n",
    "pd.crosstab(index = df['SubwayStation'], columns = 'SalePrice', values=df['SalePrice'],aggfunc='median').sort_values('SalePrice',ascending=False)"
   ]
  },
  {
   "cell_type": "markdown",
   "metadata": {},
   "source": [
    "We can see that apartments near Kyungbuk uni hospital and Myung-duk subway station have prices that are neither too high nor too low."
   ]
  },
  {
   "cell_type": "code",
   "execution_count": 7,
   "metadata": {},
   "outputs": [
    {
     "data": {
      "text/plain": [
       "<AxesSubplot:xlabel='SubwayStation'>"
      ]
     },
     "execution_count": 7,
     "metadata": {},
     "output_type": "execute_result"
    },
    {
     "data": {
      "image/png": "[encoded data removed]",
      "text/plain": [
       "<Figure size 864x360 with 1 Axes>"
      ]
     },
     "metadata": {
      "needs_background": "light"
     },
     "output_type": "display_data"
    }
   ],
   "source": [
    "ct_price = pd.crosstab(df['SubwayStation'],df['HallwayType'], values=df['SalePrice'],aggfunc='median')\n",
    "ct_price.plot.bar(figsize=(12,5))"
   ]
  },
  {
   "cell_type": "code",
   "execution_count": 8,
   "metadata": {},
   "outputs": [
    {
     "data": {
      "text/html": [
       "<div>\n",
       "<style scoped>\n",
       "    .dataframe tbody tr th:only-of-type {\n",
       "        vertical-align: middle;\n",
       "    }\n",
       "\n",
       "    .dataframe tbody tr th {\n",
       "        vertical-align: top;\n",
       "    }\n",
       "\n",
       "    .dataframe thead th {\n",
       "        text-align: right;\n",
       "    }\n",
       "</style>\n",
       "<table border=\"1\" class=\"dataframe\">\n",
       "  <thead>\n",
       "    <tr style=\"text-align: right;\">\n",
       "      <th>HallwayType</th>\n",
       "      <th>corridor</th>\n",
       "      <th>mixed</th>\n",
       "      <th>terraced</th>\n",
       "    </tr>\n",
       "    <tr>\n",
       "      <th>SubwayStation</th>\n",
       "      <th></th>\n",
       "      <th></th>\n",
       "      <th></th>\n",
       "    </tr>\n",
       "  </thead>\n",
       "  <tbody>\n",
       "    <tr>\n",
       "      <th>Bangoge</th>\n",
       "      <td>NaN</td>\n",
       "      <td>167035.0</td>\n",
       "      <td>NaN</td>\n",
       "    </tr>\n",
       "    <tr>\n",
       "      <th>Banwoldang</th>\n",
       "      <td>101769.0</td>\n",
       "      <td>NaN</td>\n",
       "      <td>337168.0</td>\n",
       "    </tr>\n",
       "    <tr>\n",
       "      <th>Chil-sung-market</th>\n",
       "      <td>NaN</td>\n",
       "      <td>88495.0</td>\n",
       "      <td>NaN</td>\n",
       "    </tr>\n",
       "    <tr>\n",
       "      <th>Daegu</th>\n",
       "      <td>70796.0</td>\n",
       "      <td>NaN</td>\n",
       "      <td>300884.0</td>\n",
       "    </tr>\n",
       "    <tr>\n",
       "      <th>Kyungbuk_uni_hospital</th>\n",
       "      <td>163716.0</td>\n",
       "      <td>NaN</td>\n",
       "      <td>244911.0</td>\n",
       "    </tr>\n",
       "    <tr>\n",
       "      <th>Myung-duk</th>\n",
       "      <td>65486.0</td>\n",
       "      <td>149557.0</td>\n",
       "      <td>271681.0</td>\n",
       "    </tr>\n",
       "    <tr>\n",
       "      <th>Sin-nam</th>\n",
       "      <td>87610.0</td>\n",
       "      <td>NaN</td>\n",
       "      <td>256637.0</td>\n",
       "    </tr>\n",
       "    <tr>\n",
       "      <th>no_subway_nearby</th>\n",
       "      <td>58407.0</td>\n",
       "      <td>NaN</td>\n",
       "      <td>243362.0</td>\n",
       "    </tr>\n",
       "  </tbody>\n",
       "</table>\n",
       "</div>"
      ],
      "text/plain": [
       "HallwayType            corridor     mixed  terraced\n",
       "SubwayStation                                      \n",
       "Bangoge                     NaN  167035.0       NaN\n",
       "Banwoldang             101769.0       NaN  337168.0\n",
       "Chil-sung-market            NaN   88495.0       NaN\n",
       "Daegu                   70796.0       NaN  300884.0\n",
       "Kyungbuk_uni_hospital  163716.0       NaN  244911.0\n",
       "Myung-duk               65486.0  149557.0  271681.0\n",
       "Sin-nam                 87610.0       NaN  256637.0\n",
       "no_subway_nearby        58407.0       NaN  243362.0"
      ]
     },
     "execution_count": 8,
     "metadata": {},
     "output_type": "execute_result"
    }
   ],
   "source": [
    "pd.crosstab(df['SubwayStation'],df['HallwayType'], values=df['SalePrice'],aggfunc='median')"
   ]
  },
  {
   "cell_type": "markdown",
   "metadata": {},
   "source": [
    "From the chart above, we can know that apartments located close to the **Kyungbuk_uni_hospital subway station** in the **terraced hallway type have a median price that tends to be low** but in the **corridor hallway type has the highest median price**. we can assume that apartments located close to the Kyungbuk_uni_hospital subway station have a **high demand** for apartments that have a **corridor hallway type**\n",
    "\n",
    "While the apartment located near **Myung-duk subway station** with **corridor hallway type has a median price that tends to be low** but in the **terrace hallway type has a price that tends to be high**."
   ]
  },
  {
   "cell_type": "markdown",
   "metadata": {},
   "source": [
    "### **Data Preprocessing**"
   ]
  },
  {
   "cell_type": "markdown",
   "metadata": {},
   "source": [
    "Data preprocessing is the process of preparing raw data for use with a machine learning model. It must be cleaned and the data must be formatted. A data set typically contains noise, missing values, and may be in an unusable format that cannot be used directly for machine learning models. Data preprocessing is a necessary task for cleaning the data and preparing it for a machine learning model, which improves the accuracy and efficiency of the machine learning model."
   ]
  },
  {
   "cell_type": "markdown",
   "metadata": {},
   "source": [
    "Next, check all data features such as data type (DataType), missing value (Null), percentage of missing value of all data (NullPercentage), number of unique values (Unique), and unique values Sample (Unique Sample)."
   ]
  },
  {
   "cell_type": "code",
   "execution_count": 9,
   "metadata": {},
   "outputs": [
    {
     "data": {
      "text/html": [
       "<div>\n",
       "<style scoped>\n",
       "    .dataframe tbody tr th:only-of-type {\n",
       "        vertical-align: middle;\n",
       "    }\n",
       "\n",
       "    .dataframe tbody tr th {\n",
       "        vertical-align: top;\n",
       "    }\n",
       "\n",
       "    .dataframe thead th {\n",
       "        text-align: right;\n",
       "    }\n",
       "</style>\n",
       "<table border=\"1\" class=\"dataframe\">\n",
       "  <thead>\n",
       "    <tr style=\"text-align: right;\">\n",
       "      <th></th>\n",
       "      <th>Features</th>\n",
       "      <th>DataType</th>\n",
       "      <th>Null</th>\n",
       "      <th>NullPercentage</th>\n",
       "      <th>Unique</th>\n",
       "      <th>Unique Sample</th>\n",
       "    </tr>\n",
       "  </thead>\n",
       "  <tbody>\n",
       "    <tr>\n",
       "      <th>0</th>\n",
       "      <td>HallwayType</td>\n",
       "      <td>object</td>\n",
       "      <td>0</td>\n",
       "      <td>0.0</td>\n",
       "      <td>3</td>\n",
       "      <td>[terraced, mixed]</td>\n",
       "    </tr>\n",
       "    <tr>\n",
       "      <th>1</th>\n",
       "      <td>TimeToSubway</td>\n",
       "      <td>object</td>\n",
       "      <td>0</td>\n",
       "      <td>0.0</td>\n",
       "      <td>5</td>\n",
       "      <td>[no_bus_stop_nearby, 0-5min]</td>\n",
       "    </tr>\n",
       "    <tr>\n",
       "      <th>2</th>\n",
       "      <td>SubwayStation</td>\n",
       "      <td>object</td>\n",
       "      <td>0</td>\n",
       "      <td>0.0</td>\n",
       "      <td>8</td>\n",
       "      <td>[Kyungbuk_uni_hospital, Chil-sung-market]</td>\n",
       "    </tr>\n",
       "    <tr>\n",
       "      <th>3</th>\n",
       "      <td>N_FacilitiesNearBy(ETC)</td>\n",
       "      <td>float64</td>\n",
       "      <td>0</td>\n",
       "      <td>0.0</td>\n",
       "      <td>4</td>\n",
       "      <td>[2.0, 5.0]</td>\n",
       "    </tr>\n",
       "    <tr>\n",
       "      <th>4</th>\n",
       "      <td>N_FacilitiesNearBy(PublicOffice)</td>\n",
       "      <td>float64</td>\n",
       "      <td>0</td>\n",
       "      <td>0.0</td>\n",
       "      <td>8</td>\n",
       "      <td>[7.0, 6.0]</td>\n",
       "    </tr>\n",
       "    <tr>\n",
       "      <th>5</th>\n",
       "      <td>N_SchoolNearBy(University)</td>\n",
       "      <td>float64</td>\n",
       "      <td>0</td>\n",
       "      <td>0.0</td>\n",
       "      <td>6</td>\n",
       "      <td>[1.0, 0.0]</td>\n",
       "    </tr>\n",
       "    <tr>\n",
       "      <th>6</th>\n",
       "      <td>N_Parkinglot(Basement)</td>\n",
       "      <td>float64</td>\n",
       "      <td>0</td>\n",
       "      <td>0.0</td>\n",
       "      <td>20</td>\n",
       "      <td>[930.0, 524.0]</td>\n",
       "    </tr>\n",
       "    <tr>\n",
       "      <th>7</th>\n",
       "      <td>YearBuilt</td>\n",
       "      <td>int64</td>\n",
       "      <td>0</td>\n",
       "      <td>0.0</td>\n",
       "      <td>16</td>\n",
       "      <td>[2006, 1992]</td>\n",
       "    </tr>\n",
       "    <tr>\n",
       "      <th>8</th>\n",
       "      <td>N_FacilitiesInApt</td>\n",
       "      <td>int64</td>\n",
       "      <td>0</td>\n",
       "      <td>0.0</td>\n",
       "      <td>9</td>\n",
       "      <td>[1, 2]</td>\n",
       "    </tr>\n",
       "    <tr>\n",
       "      <th>9</th>\n",
       "      <td>Size(sqf)</td>\n",
       "      <td>int64</td>\n",
       "      <td>0</td>\n",
       "      <td>0.0</td>\n",
       "      <td>89</td>\n",
       "      <td>[135, 1643]</td>\n",
       "    </tr>\n",
       "    <tr>\n",
       "      <th>10</th>\n",
       "      <td>SalePrice</td>\n",
       "      <td>int64</td>\n",
       "      <td>0</td>\n",
       "      <td>0.0</td>\n",
       "      <td>838</td>\n",
       "      <td>[162831, 143389]</td>\n",
       "    </tr>\n",
       "  </tbody>\n",
       "</table>\n",
       "</div>"
      ],
      "text/plain": [
       "                            Features DataType  Null  NullPercentage  Unique  \\\n",
       "0                        HallwayType   object     0             0.0       3   \n",
       "1                       TimeToSubway   object     0             0.0       5   \n",
       "2                      SubwayStation   object     0             0.0       8   \n",
       "3            N_FacilitiesNearBy(ETC)  float64     0             0.0       4   \n",
       "4   N_FacilitiesNearBy(PublicOffice)  float64     0             0.0       8   \n",
       "5         N_SchoolNearBy(University)  float64     0             0.0       6   \n",
       "6             N_Parkinglot(Basement)  float64     0             0.0      20   \n",
       "7                          YearBuilt    int64     0             0.0      16   \n",
       "8                  N_FacilitiesInApt    int64     0             0.0       9   \n",
       "9                          Size(sqf)    int64     0             0.0      89   \n",
       "10                         SalePrice    int64     0             0.0     838   \n",
       "\n",
       "                                Unique Sample  \n",
       "0                           [terraced, mixed]  \n",
       "1                [no_bus_stop_nearby, 0-5min]  \n",
       "2   [Kyungbuk_uni_hospital, Chil-sung-market]  \n",
       "3                                  [2.0, 5.0]  \n",
       "4                                  [7.0, 6.0]  \n",
       "5                                  [1.0, 0.0]  \n",
       "6                              [930.0, 524.0]  \n",
       "7                                [2006, 1992]  \n",
       "8                                      [1, 2]  \n",
       "9                                 [135, 1643]  \n",
       "10                           [162831, 143389]  "
      ]
     },
     "execution_count": 9,
     "metadata": {},
     "output_type": "execute_result"
    }
   ],
   "source": [
    "FeatureDesc = []\n",
    "\n",
    "for i in df.columns:\n",
    "    FeatureDesc.append([\n",
    "        i,\n",
    "        df[i].dtype,\n",
    "        df[i].isna().sum(),\n",
    "        round((df[i].isna().sum() / len(df)) * 100, 2),\n",
    "        df[i].nunique(),\n",
    "        df[i].drop_duplicates().sample(2).values\n",
    "    ])\n",
    "\n",
    "DfFeatureDesc = pd.DataFrame(data = FeatureDesc,\n",
    "columns = [\n",
    "    'Features',\n",
    "    'DataType',\n",
    "    'Null',\n",
    "    'NullPercentage',\n",
    "    'Unique',\n",
    "    'Unique Sample'\n",
    "])\n",
    "\n",
    "DfFeatureDesc"
   ]
  },
  {
   "cell_type": "markdown",
   "metadata": {},
   "source": [
    "**1. Missing Value check**"
   ]
  },
  {
   "cell_type": "markdown",
   "metadata": {},
   "source": [
    "From the dataframe above we can see that there is no missing value at all"
   ]
  },
  {
   "cell_type": "markdown",
   "metadata": {},
   "source": [
    "**2. Data type check**"
   ]
  },
  {
   "cell_type": "markdown",
   "metadata": {},
   "source": [
    "The results of the data type check above show that the attributes N FacilitiesNearBy (ETC), N FacilitiesNearBy (PublicOffice), N SchoolNearBy (University), and N Parkinglot (Basement) should be integer type because it makes no sense for example the number of facilities has a float data type so that further analysis will be carried out."
   ]
  },
  {
   "cell_type": "markdown",
   "metadata": {},
   "source": [
    "Check whether there are decimal numbers in the attribute by performing addition, if the addition result produces a decimal value, it is necessary to analyze the attribute."
   ]
  },
  {
   "cell_type": "code",
   "execution_count": 10,
   "metadata": {},
   "outputs": [
    {
     "name": "stdout",
     "output_type": "stream",
     "text": [
      "N_FacilitiesNearBy(ETC): 7961.0\n",
      "N_FacilitiesNearBy(PublicOffice): 17050.0\n",
      "N_SchoolNearBy(University): 11323.0\n",
      "N_Parkinglot(Basement): 2345901.0\n"
     ]
    }
   ],
   "source": [
    "print(f\"N_FacilitiesNearBy(ETC): {df['N_FacilitiesNearBy(ETC)'].sum()}\")\n",
    "print(f\"N_FacilitiesNearBy(PublicOffice): {df['N_FacilitiesNearBy(PublicOffice)'].sum()}\")\n",
    "print(f\"N_SchoolNearBy(University): {df['N_SchoolNearBy(University)'].sum()}\")\n",
    "print(f\"N_Parkinglot(Basement): {df['N_Parkinglot(Basement)'].sum()}\")"
   ]
  },
  {
   "cell_type": "markdown",
   "metadata": {},
   "source": [
    "Since the summation result does not produce a decimal number then we can continue the data preprocessing."
   ]
  },
  {
   "cell_type": "markdown",
   "metadata": {},
   "source": [
    "**3. Check duplicate data**"
   ]
  },
  {
   "cell_type": "code",
   "execution_count": 11,
   "metadata": {},
   "outputs": [
    {
     "data": {
      "text/plain": [
       "1422"
      ]
     },
     "execution_count": 11,
     "metadata": {},
     "output_type": "execute_result"
    }
   ],
   "source": [
    "# Check duplicate data\n",
    "df.duplicated().sum()"
   ]
  },
  {
   "cell_type": "markdown",
   "metadata": {},
   "source": [
    "We will ignore duplicate data because there is no feature that acts as a primary key, so that it is very possible for our dataset to have duplicated data."
   ]
  },
  {
   "cell_type": "markdown",
   "metadata": {},
   "source": [
    "**4. Drop Columns**"
   ]
  },
  {
   "cell_type": "markdown",
   "metadata": {},
   "source": [
    "We can use domain knowledge at the current feature selection stage, where all current features have relevance to our target feature, namely the sale price. So we won't drop any features."
   ]
  },
  {
   "cell_type": "markdown",
   "metadata": {},
   "source": [
    "**4.1. Descriptive Statistical Numerical Features**"
   ]
  },
  {
   "cell_type": "markdown",
   "metadata": {},
   "source": [
    "Describe all numeric features to see if there are any anomalous features, for example the value of the feature is less than 0 or the sale price is worth 0."
   ]
  },
  {
   "cell_type": "code",
   "execution_count": 12,
   "metadata": {},
   "outputs": [
    {
     "data": {
      "text/html": [
       "<div>\n",
       "<style scoped>\n",
       "    .dataframe tbody tr th:only-of-type {\n",
       "        vertical-align: middle;\n",
       "    }\n",
       "\n",
       "    .dataframe tbody tr th {\n",
       "        vertical-align: top;\n",
       "    }\n",
       "\n",
       "    .dataframe thead th {\n",
       "        text-align: right;\n",
       "    }\n",
       "</style>\n",
       "<table border=\"1\" class=\"dataframe\">\n",
       "  <thead>\n",
       "    <tr style=\"text-align: right;\">\n",
       "      <th></th>\n",
       "      <th>N_FacilitiesNearBy(ETC)</th>\n",
       "      <th>N_FacilitiesNearBy(PublicOffice)</th>\n",
       "      <th>N_SchoolNearBy(University)</th>\n",
       "      <th>N_Parkinglot(Basement)</th>\n",
       "      <th>YearBuilt</th>\n",
       "      <th>N_FacilitiesInApt</th>\n",
       "      <th>Size(sqf)</th>\n",
       "      <th>SalePrice</th>\n",
       "    </tr>\n",
       "  </thead>\n",
       "  <tbody>\n",
       "    <tr>\n",
       "      <th>count</th>\n",
       "      <td>4123.000000</td>\n",
       "      <td>4123.000000</td>\n",
       "      <td>4123.000000</td>\n",
       "      <td>4123.000000</td>\n",
       "      <td>4123.000000</td>\n",
       "      <td>4123.000000</td>\n",
       "      <td>4123.000000</td>\n",
       "      <td>4123.000000</td>\n",
       "    </tr>\n",
       "    <tr>\n",
       "      <th>mean</th>\n",
       "      <td>1.930876</td>\n",
       "      <td>4.135338</td>\n",
       "      <td>2.746301</td>\n",
       "      <td>568.979141</td>\n",
       "      <td>2002.999757</td>\n",
       "      <td>5.817851</td>\n",
       "      <td>954.630851</td>\n",
       "      <td>221767.926995</td>\n",
       "    </tr>\n",
       "    <tr>\n",
       "      <th>std</th>\n",
       "      <td>2.198832</td>\n",
       "      <td>1.802640</td>\n",
       "      <td>1.496610</td>\n",
       "      <td>410.372742</td>\n",
       "      <td>8.905768</td>\n",
       "      <td>2.340507</td>\n",
       "      <td>383.805648</td>\n",
       "      <td>106739.839945</td>\n",
       "    </tr>\n",
       "    <tr>\n",
       "      <th>min</th>\n",
       "      <td>0.000000</td>\n",
       "      <td>0.000000</td>\n",
       "      <td>0.000000</td>\n",
       "      <td>0.000000</td>\n",
       "      <td>1978.000000</td>\n",
       "      <td>1.000000</td>\n",
       "      <td>135.000000</td>\n",
       "      <td>32743.000000</td>\n",
       "    </tr>\n",
       "    <tr>\n",
       "      <th>25%</th>\n",
       "      <td>0.000000</td>\n",
       "      <td>3.000000</td>\n",
       "      <td>2.000000</td>\n",
       "      <td>184.000000</td>\n",
       "      <td>1993.000000</td>\n",
       "      <td>4.000000</td>\n",
       "      <td>644.000000</td>\n",
       "      <td>144752.000000</td>\n",
       "    </tr>\n",
       "    <tr>\n",
       "      <th>50%</th>\n",
       "      <td>1.000000</td>\n",
       "      <td>5.000000</td>\n",
       "      <td>2.000000</td>\n",
       "      <td>536.000000</td>\n",
       "      <td>2006.000000</td>\n",
       "      <td>5.000000</td>\n",
       "      <td>910.000000</td>\n",
       "      <td>209734.000000</td>\n",
       "    </tr>\n",
       "    <tr>\n",
       "      <th>75%</th>\n",
       "      <td>5.000000</td>\n",
       "      <td>5.000000</td>\n",
       "      <td>4.000000</td>\n",
       "      <td>798.000000</td>\n",
       "      <td>2008.000000</td>\n",
       "      <td>7.000000</td>\n",
       "      <td>1149.000000</td>\n",
       "      <td>291150.000000</td>\n",
       "    </tr>\n",
       "    <tr>\n",
       "      <th>max</th>\n",
       "      <td>5.000000</td>\n",
       "      <td>7.000000</td>\n",
       "      <td>5.000000</td>\n",
       "      <td>1321.000000</td>\n",
       "      <td>2015.000000</td>\n",
       "      <td>10.000000</td>\n",
       "      <td>2337.000000</td>\n",
       "      <td>585840.000000</td>\n",
       "    </tr>\n",
       "  </tbody>\n",
       "</table>\n",
       "</div>"
      ],
      "text/plain": [
       "       N_FacilitiesNearBy(ETC)  N_FacilitiesNearBy(PublicOffice)  \\\n",
       "count              4123.000000                       4123.000000   \n",
       "mean                  1.930876                          4.135338   \n",
       "std                   2.198832                          1.802640   \n",
       "min                   0.000000                          0.000000   \n",
       "25%                   0.000000                          3.000000   \n",
       "50%                   1.000000                          5.000000   \n",
       "75%                   5.000000                          5.000000   \n",
       "max                   5.000000                          7.000000   \n",
       "\n",
       "       N_SchoolNearBy(University)  N_Parkinglot(Basement)    YearBuilt  \\\n",
       "count                 4123.000000             4123.000000  4123.000000   \n",
       "mean                     2.746301              568.979141  2002.999757   \n",
       "std                      1.496610              410.372742     8.905768   \n",
       "min                      0.000000                0.000000  1978.000000   \n",
       "25%                      2.000000              184.000000  1993.000000   \n",
       "50%                      2.000000              536.000000  2006.000000   \n",
       "75%                      4.000000              798.000000  2008.000000   \n",
       "max                      5.000000             1321.000000  2015.000000   \n",
       "\n",
       "       N_FacilitiesInApt    Size(sqf)      SalePrice  \n",
       "count        4123.000000  4123.000000    4123.000000  \n",
       "mean            5.817851   954.630851  221767.926995  \n",
       "std             2.340507   383.805648  106739.839945  \n",
       "min             1.000000   135.000000   32743.000000  \n",
       "25%             4.000000   644.000000  144752.000000  \n",
       "50%             5.000000   910.000000  209734.000000  \n",
       "75%             7.000000  1149.000000  291150.000000  \n",
       "max            10.000000  2337.000000  585840.000000  "
      ]
     },
     "execution_count": 12,
     "metadata": {},
     "output_type": "execute_result"
    }
   ],
   "source": [
    "df.describe()"
   ]
  },
  {
   "cell_type": "markdown",
   "metadata": {},
   "source": [
    "From the results describe all features have realistic values, so we can continue the preprocessing data."
   ]
  },
  {
   "cell_type": "markdown",
   "metadata": {},
   "source": [
    "**4.2 Data Correlation**"
   ]
  },
  {
   "cell_type": "markdown",
   "metadata": {},
   "source": [
    "Data Correlation is the mutual relationship, covariation, or association between two or more variables."
   ]
  },
  {
   "cell_type": "markdown",
   "metadata": {},
   "source": [
    "Because the target data is not normally distributed  then we use the **spearman** method to see the correlation between features."
   ]
  },
  {
   "cell_type": "code",
   "execution_count": 13,
   "metadata": {},
   "outputs": [
    {
     "data": {
      "image/png": "[encoded data removed]",
      "text/plain": [
       "<Figure size 1080x864 with 2 Axes>"
      ]
     },
     "metadata": {
      "needs_background": "light"
     },
     "output_type": "display_data"
    }
   ],
   "source": [
    "plt.figure(figsize=(15,12))\n",
    "sns.heatmap(df.corr('spearman'), annot=True)\n",
    "plt.show()"
   ]
  },
  {
   "cell_type": "markdown",
   "metadata": {},
   "source": [
    "The correlation matrix shows that the feature with the highest correlation with the sale price feature is the unit area (size (sqf)), which is 0.7, implying that the wider the units sold, the higher the price and there is also no multicollinearity between features. Despite the fact that some features have a low correlation to the sale price feature, we will not drop the feature due to the small number of all features in the data."
   ]
  },
  {
   "cell_type": "markdown",
   "metadata": {},
   "source": [
    "**4.3 Outlier Detection**"
   ]
  },
  {
   "cell_type": "markdown",
   "metadata": {},
   "source": [
    "Outliers are datapoints in a dataset that contain abnormal observations among the normal observations, resulting in strange accuracy scores that can skew measurements because the results do not represent the actual results. An outlier is an observation that appears far away and deviates from a sample's overall pattern. Outliers in input data can skew and mislead machine learning algorithms' training processes, resulting in longer training times, less accurate models, and ultimately poorer results."
   ]
  },
  {
   "cell_type": "code",
   "execution_count": 14,
   "metadata": {},
   "outputs": [
    {
     "data": {
      "text/plain": [
       "<AxesSubplot:>"
      ]
     },
     "execution_count": 14,
     "metadata": {},
     "output_type": "execute_result"
    },
    {
     "data": {
      "image/png": "[encoded data removed]",
      "text/plain": [
       "<Figure size 1440x720 with 1 Axes>"
      ]
     },
     "metadata": {
      "needs_background": "light"
     },
     "output_type": "display_data"
    }
   ],
   "source": [
    "# Plot to check outlier\n",
    "plt.figure(figsize=(20,10))\n",
    "sns.boxplot(data=df,orient=\"h\", palette=\"RdBu_r\")"
   ]
  },
  {
   "cell_type": "markdown",
   "metadata": {},
   "source": [
    "From the boxplot results, there is an outlier on several features such as the salePrice  and Size (sqf) feature then processing will be carried out on each feature so that there will be data limitations."
   ]
  },
  {
   "cell_type": "code",
   "execution_count": 15,
   "metadata": {},
   "outputs": [],
   "source": [
    "# Create a function to check outliers\n",
    "def check_outlier(col):\n",
    "    Q1 = df.describe()[col]['25%']\n",
    "    Q3 = df.describe()[col]['75%']\n",
    "    IQR = Q3 - Q1\n",
    "    upper_fence = Q3 + (1.5 * IQR)\n",
    "    lower_fence = Q1 - (1.5 * IQR)\n",
    "    return IQR,upper_fence, lower_fence"
   ]
  },
  {
   "cell_type": "markdown",
   "metadata": {},
   "source": [
    "**4.3.1 Sale Price**"
   ]
  },
  {
   "cell_type": "code",
   "execution_count": 16,
   "metadata": {},
   "outputs": [
    {
     "data": {
      "image/png": "[encoded data removed]",
      "text/plain": [
       "<Figure size 432x288 with 1 Axes>"
      ]
     },
     "metadata": {
      "needs_background": "light"
     },
     "output_type": "display_data"
    }
   ],
   "source": [
    "# Data distribution plot on salePrice feature\n",
    "sns.boxplot(df['SalePrice'])\n",
    "plt.show()"
   ]
  },
  {
   "cell_type": "code",
   "execution_count": 17,
   "metadata": {},
   "outputs": [
    {
     "name": "stdout",
     "output_type": "stream",
     "text": [
      "IQR SalePrice\n",
      "IQR\t\t:  146398.0\n",
      "Upper Fence\t:  510747.0\n",
      "lower_fence\t:  -74845.0\n"
     ]
    }
   ],
   "source": [
    "# Outlier on Sale Price feature\n",
    "IQR, upper_fence, lower_fence = check_outlier('SalePrice')\n",
    "print(\"IQR SalePrice\")\n",
    "print('IQR\\t\\t: ',IQR)\n",
    "print('Upper Fence\\t: ',upper_fence)\n",
    "print('lower_fence\\t: ',lower_fence)"
   ]
  },
  {
   "cell_type": "code",
   "execution_count": 18,
   "metadata": {},
   "outputs": [
    {
     "data": {
      "text/plain": [
       "count      4123.000000\n",
       "mean     221767.926995\n",
       "std      106739.839945\n",
       "min       32743.000000\n",
       "25%      144752.000000\n",
       "50%      209734.000000\n",
       "75%      291150.000000\n",
       "max      585840.000000\n",
       "Name: SalePrice, dtype: float64"
      ]
     },
     "execution_count": 18,
     "metadata": {},
     "output_type": "execute_result"
    }
   ],
   "source": [
    "# Check the descriptive statistics of the sale price feature\n",
    "df['SalePrice'].describe()"
   ]
  },
  {
   "cell_type": "code",
   "execution_count": 19,
   "metadata": {},
   "outputs": [
    {
     "name": "stdout",
     "output_type": "stream",
     "text": [
      "SalePrice amount > 510747\t\t:  27\n",
      "Percentage of salePrice amount > 510747\t:  0.655 %\n"
     ]
    }
   ],
   "source": [
    "# Check salePrice > 510747.0\n",
    "print(\"SalePrice amount > 510747\\t\\t: \",df[df['SalePrice'] > 510747.0].count()['SalePrice'])\n",
    "print(\"Percentage of salePrice amount > 510747\\t: \",round((df[df['SalePrice'] > 510747.0].count()['SalePrice'])/4123*100,3),\"%\")\n"
   ]
  },
  {
   "cell_type": "markdown",
   "metadata": {},
   "source": [
    "According to descriptive statistics, the third quartile on the SalePrice feature is worth less than $291150, while the maximum value is very large, at $585840. \n",
    "\n",
    "As a result, the data is not normally distributed, resulting in positive skewness. There are 27 data in our data whose salePrice value is greater than $291150, or only 0.655% of the data. We will drop the data so that the skewness can be reduced, resulting in modeling limitations."
   ]
  },
  {
   "cell_type": "code",
   "execution_count": 20,
   "metadata": {},
   "outputs": [],
   "source": [
    "# Filtering data\n",
    "df = df[df['SalePrice'] <= 510747]"
   ]
  },
  {
   "cell_type": "code",
   "execution_count": 21,
   "metadata": {},
   "outputs": [
    {
     "data": {
      "image/png": "[encoded data removed]",
      "text/plain": [
       "<Figure size 432x288 with 1 Axes>"
      ]
     },
     "metadata": {
      "needs_background": "light"
     },
     "output_type": "display_data"
    }
   ],
   "source": [
    "# Data distribution after filtering\n",
    "sns.histplot(data=df, x=\"SalePrice\")\n",
    "plt.show()"
   ]
  },
  {
   "cell_type": "markdown",
   "metadata": {},
   "source": [
    "Skewness on data distribution has been reduced which can be seen in the plot above."
   ]
  },
  {
   "cell_type": "code",
   "execution_count": 22,
   "metadata": {},
   "outputs": [
    {
     "data": {
      "text/plain": [
       "count      4096.000000\n",
       "mean     219692.548828\n",
       "std      103961.039574\n",
       "min       32743.000000\n",
       "25%      144752.000000\n",
       "50%      207964.000000\n",
       "75%      287610.000000\n",
       "max      508849.000000\n",
       "Name: SalePrice, dtype: float64"
      ]
     },
     "execution_count": 22,
     "metadata": {},
     "output_type": "execute_result"
    }
   ],
   "source": [
    "# Check the descriptive statistics of the 'SalePrice' feature after filtering\n",
    "df['SalePrice'].describe()"
   ]
  },
  {
   "cell_type": "markdown",
   "metadata": {},
   "source": [
    "**4.3.2 size(sqf)**"
   ]
  },
  {
   "cell_type": "code",
   "execution_count": 23,
   "metadata": {},
   "outputs": [
    {
     "data": {
      "image/png": "[encoded data removed]",
      "text/plain": [
       "<Figure size 432x288 with 1 Axes>"
      ]
     },
     "metadata": {
      "needs_background": "light"
     },
     "output_type": "display_data"
    }
   ],
   "source": [
    "# Data distribution plot on size(sqf) feature\n",
    "sns.boxplot(df['Size(sqf)'])\n",
    "plt.show()"
   ]
  },
  {
   "cell_type": "code",
   "execution_count": 24,
   "metadata": {},
   "outputs": [
    {
     "name": "stdout",
     "output_type": "stream",
     "text": [
      "IQR Size(sqf)\n",
      "IQR\t\t:  487.0\n",
      "Upper Fence\t:  1861.5\n",
      "lower_fence\t:  -86.5\n"
     ]
    }
   ],
   "source": [
    "# Outlier on Size(sqf) feature\n",
    "IQR, upper_fence, lower_fence = check_outlier('Size(sqf)')\n",
    "print(\"IQR Size(sqf)\")\n",
    "print('IQR\\t\\t: ',IQR)\n",
    "print('Upper Fence\\t: ',upper_fence)\n",
    "print('lower_fence\\t: ',lower_fence)"
   ]
  },
  {
   "cell_type": "code",
   "execution_count": 25,
   "metadata": {},
   "outputs": [
    {
     "data": {
      "text/plain": [
       "count    4096.000000\n",
       "mean      949.107178\n",
       "std       378.608713\n",
       "min       135.000000\n",
       "25%       644.000000\n",
       "50%       910.000000\n",
       "75%      1131.000000\n",
       "max      2337.000000\n",
       "Name: Size(sqf), dtype: float64"
      ]
     },
     "execution_count": 25,
     "metadata": {},
     "output_type": "execute_result"
    }
   ],
   "source": [
    "# Check the descriptive statistics of the Size(sqf) feature\n",
    "df['Size(sqf)'].describe()"
   ]
  },
  {
   "cell_type": "code",
   "execution_count": 26,
   "metadata": {},
   "outputs": [
    {
     "name": "stdout",
     "output_type": "stream",
     "text": [
      "Size(sqf) amount > 1861.5\t\t:  81\n",
      "Percentage of Size(sqf) amount > 1861.5\t:  1.965 %\n"
     ]
    }
   ],
   "source": [
    "# Check Size(sqf) > 1861.5\n",
    "print(\"Size(sqf) amount > 1861.5\\t\\t: \",df[df['Size(sqf)'] > 1861.5].count()['Size(sqf)'])\n",
    "print(\"Percentage of Size(sqf) amount > 1861.5\\t: \",round((df[df['Size(sqf)'] > 1861.5].count()['Size(sqf)'])/4123*100,3),\"%\")\n"
   ]
  },
  {
   "cell_type": "markdown",
   "metadata": {},
   "source": [
    "From the boxplot it can be clearly seen that there is an outlier, then because the percentage of outliers is very small, which is only 1.965%, we will drop all data that has a size (sqf) greater than 1861.5."
   ]
  },
  {
   "cell_type": "code",
   "execution_count": 27,
   "metadata": {},
   "outputs": [],
   "source": [
    "# Filtering data\n",
    "df = df[df['Size(sqf)'] <= 1861.5]"
   ]
  },
  {
   "cell_type": "code",
   "execution_count": 28,
   "metadata": {},
   "outputs": [
    {
     "data": {
      "image/png": "[encoded data removed]",
      "text/plain": [
       "<Figure size 432x288 with 1 Axes>"
      ]
     },
     "metadata": {
      "needs_background": "light"
     },
     "output_type": "display_data"
    }
   ],
   "source": [
    "# Data distribution after filtering\n",
    "sns.histplot(data=df, x=\"Size(sqf)\")\n",
    "plt.show()"
   ]
  },
  {
   "cell_type": "markdown",
   "metadata": {},
   "source": [
    "Skewness on data distribution has been reduced which can be seen in the plot above."
   ]
  },
  {
   "cell_type": "code",
   "execution_count": 29,
   "metadata": {},
   "outputs": [
    {
     "data": {
      "text/plain": [
       "count    4015.000000\n",
       "mean      925.216936\n",
       "std       341.828592\n",
       "min       135.000000\n",
       "25%       644.000000\n",
       "50%       910.000000\n",
       "75%      1131.000000\n",
       "max      1796.000000\n",
       "Name: Size(sqf), dtype: float64"
      ]
     },
     "execution_count": 29,
     "metadata": {},
     "output_type": "execute_result"
    }
   ],
   "source": [
    "# Check the descriptive statistics of the 'Size(sqf)' feature after filtering\n",
    "df['Size(sqf)'].describe()"
   ]
  },
  {
   "cell_type": "code",
   "execution_count": 30,
   "metadata": {},
   "outputs": [
    {
     "name": "stdout",
     "output_type": "stream",
     "text": [
      "<class 'pandas.core.frame.DataFrame'>\n",
      "Int64Index: 4015 entries, 0 to 4122\n",
      "Data columns (total 11 columns):\n",
      " #   Column                            Non-Null Count  Dtype  \n",
      "---  ------                            --------------  -----  \n",
      " 0   HallwayType                       4015 non-null   object \n",
      " 1   TimeToSubway                      4015 non-null   object \n",
      " 2   SubwayStation                     4015 non-null   object \n",
      " 3   N_FacilitiesNearBy(ETC)           4015 non-null   float64\n",
      " 4   N_FacilitiesNearBy(PublicOffice)  4015 non-null   float64\n",
      " 5   N_SchoolNearBy(University)        4015 non-null   float64\n",
      " 6   N_Parkinglot(Basement)            4015 non-null   float64\n",
      " 7   YearBuilt                         4015 non-null   int64  \n",
      " 8   N_FacilitiesInApt                 4015 non-null   int64  \n",
      " 9   Size(sqf)                         4015 non-null   int64  \n",
      " 10  SalePrice                         4015 non-null   int64  \n",
      "dtypes: float64(4), int64(4), object(3)\n",
      "memory usage: 505.4+ KB\n"
     ]
    }
   ],
   "source": [
    "# Check the dataset feature info from the cleansing results\n",
    "df.info()"
   ]
  },
  {
   "cell_type": "markdown",
   "metadata": {},
   "source": [
    "The total amount of data dropped is 108 data or 2.62% of the total data."
   ]
  },
  {
   "cell_type": "markdown",
   "metadata": {},
   "source": [
    "### **Modeling**"
   ]
  },
  {
   "cell_type": "code",
   "execution_count": 31,
   "metadata": {},
   "outputs": [],
   "source": [
    "# Import library\n",
    "\n",
    "from sklearn.model_selection import train_test_split, cross_val_score, RandomizedSearchCV, GridSearchCV, KFold\n",
    "\n",
    "import category_encoders as ce\n",
    "from sklearn.compose import ColumnTransformer\n",
    "from sklearn.pipeline import Pipeline\n",
    "\n",
    "from sklearn.linear_model import LinearRegression\n",
    "from sklearn.neighbors import KNeighborsRegressor\n",
    "from sklearn.tree import DecisionTreeRegressor\n",
    "from sklearn.ensemble import RandomForestRegressor\n",
    "from xgboost.sklearn import XGBRegressor\n",
    "from sklearn.compose import TransformedTargetRegressor\n",
    "\n",
    "from sklearn.preprocessing import StandardScaler,PolynomialFeatures, PowerTransformer, OneHotEncoder\n",
    "\n",
    "from sklearn.metrics import r2_score, mean_absolute_error, mean_absolute_percentage_error"
   ]
  },
  {
   "cell_type": "markdown",
   "metadata": {},
   "source": [
    "**1. Separating Independent Variable Data from targets**"
   ]
  },
  {
   "cell_type": "code",
   "execution_count": 32,
   "metadata": {},
   "outputs": [],
   "source": [
    "## Separating Independent Variable Data from targets\n",
    "X = df.drop(columns=['SalePrice'])\n",
    "y = df['SalePrice']"
   ]
  },
  {
   "cell_type": "markdown",
   "metadata": {},
   "source": [
    "**2. Data Splitting**"
   ]
  },
  {
   "cell_type": "code",
   "execution_count": 33,
   "metadata": {},
   "outputs": [],
   "source": [
    "# Splitting training and test data with a proportion of 80:20\n",
    "X_train, X_test, y_train, y_test= train_test_split(\n",
    "    X,\n",
    "    y,  \n",
    "    test_size=0.20,\n",
    "    random_state=99)"
   ]
  },
  {
   "cell_type": "markdown",
   "metadata": {},
   "source": [
    "**3. Choosing the 2 best base models by cross validation**\n",
    "\n"
   ]
  },
  {
   "cell_type": "markdown",
   "metadata": {},
   "source": [
    "Cross-Validation is a technique that helps to make our model sure about its efficiency and accuracy on the unseen data. It is a method for evaluating Machine Learning models by training several other Machine learning models on subsets of the available input data set and evaluating them on the subset of the data set."
   ]
  },
  {
   "cell_type": "markdown",
   "metadata": {},
   "source": [
    "**3.1. Create a machine learning pipeline**"
   ]
  },
  {
   "cell_type": "markdown",
   "metadata": {},
   "source": [
    "Machine learning pipeline is used to help automate machine learning workflows. They operate by enabling a sequence of data to be transformed and correlated together in a model that can be tested and evaluated to achieve an outcome.By using the pipeline we can also avoid data leakage, which is a condition where the model knows the condition of the test data can be due to imputation or when doing fit. So it must be avoided so that the value of the evaluation Matrix test set is more valid and trustworthy.\n",
    "\n",
    "Here are some steps from the machine learning pipeline:\n",
    "\n",
    "1. Data input.\n",
    "2. Features of the inputted data will be divided into category-type features and numeric-type features.\n",
    "3. Carry out the feature engineering process or transform of the feature such as doing feature scaling, polynomial feature, encoding, etc. \n",
    "4. Transform results of category-type features and numeric-type features will be combined using column transformers.\n",
    "5. Next is the estimator where the pipeline contains the transformer column results and the algorithm to be used."
   ]
  },
  {
   "cell_type": "markdown",
   "metadata": {},
   "source": [
    "Next, we will grouping features by data type, with the 'num_columns' list containing **numeric** type features and the 'cat_columns_OHE' and 'cat_columns_Ordinal' lists containing **categorical** type data. The purpose of grouping is to enable feature engineering based on the type of feature."
   ]
  },
  {
   "cell_type": "code",
   "execution_count": 34,
   "metadata": {},
   "outputs": [],
   "source": [
    "# Grouping features by data type\n",
    "\n",
    "num_columns = ['N_FacilitiesNearBy(ETC)','N_FacilitiesNearBy(PublicOffice)','N_SchoolNearBy(University)','N_Parkinglot(Basement)','YearBuilt','N_FacilitiesInApt','Size(sqf)' ]\n",
    "cat_columns_OHE = ['HallwayType','SubwayStation']\n",
    "cat_columns_Ordinal = ['TimeToSubway']"
   ]
  },
  {
   "cell_type": "markdown",
   "metadata": {},
   "source": [
    "Then create cross validation using the machine learning pipeline "
   ]
  },
  {
   "cell_type": "code",
   "execution_count": 35,
   "metadata": {},
   "outputs": [],
   "source": [
    "## Feature Engineering\n",
    "# Feature Engineering on numeric Features\n",
    "num_pipeline = Pipeline([\n",
    "    ('Scaler',StandardScaler()),\n",
    "    ('Power',PowerTransformer(method='yeo-johnson'))\n",
    "])\n",
    "# Encode Categoric Features using One Hot Encoding\n",
    "cat_pipeline_OHE = Pipeline([\n",
    "    ('One Hot', OneHotEncoder(drop='first', handle_unknown='ignore'))\n",
    "])\n",
    "# Encode Categoric Feature using Ordinal Encoder\n",
    "cat_pipeline_Ordinal = Pipeline([\n",
    "    ('Ordinal', ce.OrdinalEncoder(mapping = [{\n",
    "                                    'col': 'TimeToSubway', \n",
    "                                    'mapping': {'no_bus_stop_nearby': 0, \n",
    "                                                '15min~20min': 1, \n",
    "                                                '10min~15min': 2, \n",
    "                                                '5min~10min': 3,\n",
    "                                                '0-5min':4}}\n",
    "                                         ]))\n",
    "])\n",
    "\n",
    "## Transform a set of columns\n",
    "preprocessor = ColumnTransformer([\n",
    "    ('numeric', num_pipeline, num_columns),\n",
    "    ('categoric_OHE', cat_pipeline_OHE, cat_columns_OHE),\n",
    "    ('categoric_Ordinal',cat_pipeline_Ordinal, cat_columns_Ordinal)\n",
    "])\n",
    "\n",
    "## Define a set of algorithms to be tested\n",
    "models = [LinearRegression(), KNeighborsRegressor(), DecisionTreeRegressor(random_state=99), RandomForestRegressor(random_state=99), XGBRegressor(random_state=99)]\n",
    "\n",
    "## List declaration for storing r2, MAE, MAPE values\n",
    "r2_mean = []\n",
    "r2_std = []\n",
    "\n",
    "MAE_mean = []\n",
    "MAE_std = []\n",
    "\n",
    "MAPE_mean = []\n",
    "MAPE_std = []\n",
    "\n",
    "## Iterations to test the model\n",
    "for model in models:\n",
    "    kf = KFold(n_splits=5)\n",
    "\n",
    "    estimator = Pipeline([\n",
    "        ('prep', preprocessor),\n",
    "        ('algo', model)\n",
    "    ])\n",
    "\n",
    "    # R2 Score\n",
    "    cv_r2 = cross_val_score(\n",
    "        estimator, \n",
    "        X_train, \n",
    "        y_train, \n",
    "        cv=kf, \n",
    "        scoring='r2', \n",
    "        )\n",
    "\n",
    "    r2_mean.append(cv_r2.mean())\n",
    "    r2_std.append(cv_r2.std())\n",
    "\n",
    "    # MAE\n",
    "    cv_MAE = cross_val_score(\n",
    "        estimator,\n",
    "        X_train,\n",
    "        y_train,\n",
    "        cv = kf,\n",
    "        scoring = 'neg_mean_absolute_error'\n",
    "    )\n",
    "\n",
    "    MAE_mean.append(cv_MAE.mean())\n",
    "    MAE_std.append(cv_MAE.std())\n",
    "\n",
    "    # MAPE\n",
    "    cv_MAPE = cross_val_score(\n",
    "        estimator,\n",
    "        X_train,\n",
    "        y_train,\n",
    "        cv=kf,\n",
    "        scoring='neg_mean_absolute_percentage_error'\n",
    "    )\n",
    "\n",
    "    MAPE_mean.append(cv_MAPE.mean())\n",
    "    MAPE_std.append(cv_MAPE.std())"
   ]
  },
  {
   "cell_type": "markdown",
   "metadata": {},
   "source": [
    "**Feature Engineering**\n",
    "\n",
    "Feature engineering is the process of extracting features from a dataset and assisting the predictive model in better representing underlying problems, which improves the model's accuracy in predicting data.\n",
    "\n",
    "1. Numeric:\n",
    "\n",
    "- Feature Scalling : Standard Scaler\n",
    "\n",
    "    **Feature scaling** is used to change the entire feature to have the same range, for distance-based algorithms this can improve accuracy because any difference in order of magnitude in our different feature values will cause the feature with the widest range to dominate the metric, thus taking most of the importance of the model.\n",
    "\n",
    "    Although the scalling feature is more suitable for distance-based algorithms but it can also be used on tree-based algorithms and does not reduce the accuracy of the model Significantly. In our case, we use feature scaling for distance and tree-based algorithms to make programming more efficient.\n",
    "\n",
    "    **Standard Scaler** work with akes our data and makes it follow a Normal distribution, usually of mean 0 and standard deviation 1.\n",
    "\n",
    "- Power Transform : Yeo-johnson\n",
    "\n",
    "    Power transform will make features more normally distributed and reduce skew, it will work with calculating the log or square root of the features. we use yeo-johnson because it can shout features that are negative or 0, in our case it is like there is an apartment that does not have a parking lot. While the box-cox method requires features to have a value of more than 0.    \n",
    "\n",
    "2. Categoric\n",
    "\n",
    "    Because Machine Learning models cannot handle text data directly, Feature Encoding converts categorical features to numeric values.\n",
    "\n",
    "- Ordinal Encoding\n",
    "\n",
    "    Ordinal encoding converts categorical features to numeric features with weights or ratings. For example, in the time to subway feature, the shorter the time required to get to the subway, the greater the weight.\n",
    "\n",
    "- One Hot Encoding\n",
    "\n",
    "    one hot encoding is a type of encoding that works by adding the number of columns according to the number of unique values in the feature then giving a value of 1 in the column with that category and the rest of the columns are worth 0. so that the value on the feature has the same position (no one has a higher weight in the other)."
   ]
  },
  {
   "cell_type": "markdown",
   "metadata": {},
   "source": [
    "**3.2 Evaluation Matrix** "
   ]
  },
  {
   "cell_type": "code",
   "execution_count": 55,
   "metadata": {},
   "outputs": [],
   "source": [
    "# Evaluation results of 5 base models using polynomial features\n",
    "eva_matrix_base = pd.DataFrame({\n",
    "    'Model': ['Linear Regression', 'KNN Regressor', 'DecisionTree Regressor', 'RandomForest Regressor', 'XGBoost Regressor'],\n",
    "    'R2_Mean' : r2_mean,\n",
    "    'R2_Std' : r2_std,\n",
    "    'MAE_Mean': MAE_mean,\n",
    "    'MAE_Std': MAE_std,\n",
    "    'MAPE_Mean': MAPE_mean,\n",
    "    'MAPE_Std': MAPE_std\n",
    "})"
   ]
  },
  {
   "cell_type": "code",
   "execution_count": 56,
   "metadata": {},
   "outputs": [
    {
     "data": {
      "text/html": [
       "<div>\n",
       "<style scoped>\n",
       "    .dataframe tbody tr th:only-of-type {\n",
       "        vertical-align: middle;\n",
       "    }\n",
       "\n",
       "    .dataframe tbody tr th {\n",
       "        vertical-align: top;\n",
       "    }\n",
       "\n",
       "    .dataframe thead th {\n",
       "        text-align: right;\n",
       "    }\n",
       "</style>\n",
       "<table border=\"1\" class=\"dataframe\">\n",
       "  <thead>\n",
       "    <tr style=\"text-align: right;\">\n",
       "      <th></th>\n",
       "      <th>Model</th>\n",
       "      <th>R2_Mean</th>\n",
       "      <th>R2_Std</th>\n",
       "      <th>MAE_Mean</th>\n",
       "      <th>MAE_Std</th>\n",
       "      <th>MAPE_Mean</th>\n",
       "      <th>MAPE_Std</th>\n",
       "    </tr>\n",
       "  </thead>\n",
       "  <tbody>\n",
       "    <tr>\n",
       "      <th>4</th>\n",
       "      <td>XGBoost Regressor</td>\n",
       "      <td>0.831796</td>\n",
       "      <td>0.010871</td>\n",
       "      <td>-33393.799687</td>\n",
       "      <td>822.151260</td>\n",
       "      <td>-0.183476</td>\n",
       "      <td>0.004540</td>\n",
       "    </tr>\n",
       "    <tr>\n",
       "      <th>2</th>\n",
       "      <td>DecisionTree Regressor</td>\n",
       "      <td>0.831795</td>\n",
       "      <td>0.010886</td>\n",
       "      <td>-33397.562519</td>\n",
       "      <td>835.463923</td>\n",
       "      <td>-0.183464</td>\n",
       "      <td>0.004556</td>\n",
       "    </tr>\n",
       "    <tr>\n",
       "      <th>3</th>\n",
       "      <td>RandomForest Regressor</td>\n",
       "      <td>0.831490</td>\n",
       "      <td>0.010869</td>\n",
       "      <td>-33406.759031</td>\n",
       "      <td>835.620650</td>\n",
       "      <td>-0.183788</td>\n",
       "      <td>0.004982</td>\n",
       "    </tr>\n",
       "    <tr>\n",
       "      <th>1</th>\n",
       "      <td>KNN Regressor</td>\n",
       "      <td>0.810527</td>\n",
       "      <td>0.011017</td>\n",
       "      <td>-34044.096715</td>\n",
       "      <td>861.370607</td>\n",
       "      <td>-0.182365</td>\n",
       "      <td>0.005975</td>\n",
       "    </tr>\n",
       "    <tr>\n",
       "      <th>0</th>\n",
       "      <td>Linear Regression</td>\n",
       "      <td>0.776933</td>\n",
       "      <td>0.020802</td>\n",
       "      <td>-39835.628472</td>\n",
       "      <td>1836.247061</td>\n",
       "      <td>-0.222828</td>\n",
       "      <td>0.006551</td>\n",
       "    </tr>\n",
       "  </tbody>\n",
       "</table>\n",
       "</div>"
      ],
      "text/plain": [
       "                    Model   R2_Mean    R2_Std      MAE_Mean      MAE_Std  \\\n",
       "4       XGBoost Regressor  0.831796  0.010871 -33393.799687   822.151260   \n",
       "2  DecisionTree Regressor  0.831795  0.010886 -33397.562519   835.463923   \n",
       "3  RandomForest Regressor  0.831490  0.010869 -33406.759031   835.620650   \n",
       "1           KNN Regressor  0.810527  0.011017 -34044.096715   861.370607   \n",
       "0       Linear Regression  0.776933  0.020802 -39835.628472  1836.247061   \n",
       "\n",
       "   MAPE_Mean  MAPE_Std  \n",
       "4  -0.183476  0.004540  \n",
       "2  -0.183464  0.004556  \n",
       "3  -0.183788  0.004982  \n",
       "1  -0.182365  0.005975  \n",
       "0  -0.222828  0.006551  "
      ]
     },
     "execution_count": 56,
     "metadata": {},
     "output_type": "execute_result"
    }
   ],
   "source": [
    "# Sorting the evaluation matrix based on r2 mean\n",
    "eva_matrix_base.sort_values('R2_Mean',ascending=False)"
   ]
  },
  {
   "cell_type": "markdown",
   "metadata": {},
   "source": [
    "The most stable algorithm are Decision Tree Regressor and XGBoost Regressor, next we will do tuning on the hyperparameter to get the best results from the model."
   ]
  },
  {
   "cell_type": "markdown",
   "metadata": {},
   "source": [
    "**4. Hyperparameter Tuning**"
   ]
  },
  {
   "cell_type": "markdown",
   "metadata": {},
   "source": [
    "Hyperparameters are parameters found in machine learning, and we will do the tuning process on those parameters by trying some reasonable parameter values from the algorithm to get the best results from the model."
   ]
  },
  {
   "cell_type": "markdown",
   "metadata": {},
   "source": [
    "**4.1 XGBoost Algorithm**"
   ]
  },
  {
   "cell_type": "markdown",
   "metadata": {},
   "source": [
    "Next, we will hyperparameter tuning the XGBoost algorithm"
   ]
  },
  {
   "cell_type": "code",
   "execution_count": 38,
   "metadata": {},
   "outputs": [],
   "source": [
    "# defines xgboost parameter\n",
    "param_XGB = {\n",
    "    \"algo__n_estimators\" : [100, 150],\n",
    "    \"algo__max_depth\" : [1, 2, 3],\n",
    "    \"algo__learning_rate\" : np.logspace(-3, 0, 4),\n",
    "    \"algo__gamma\" : np.logspace(-3, 2, 6),\n",
    "    \"algo__colsample_bytree\" : [.3, .5, .7],\n",
    "    \"algo__subsample\" : [.3, .5, .7],\n",
    "    \"algo__reg_alpha\" : np.logspace(-3, 3, 7), \n",
    "    \"algo__reg_lambda\" : np.logspace(-3, 3, 7)\n",
    "\n",
    "}"
   ]
  },
  {
   "cell_type": "markdown",
   "metadata": {},
   "source": [
    "**Hyperparameter on XGBoost**\n",
    "\n",
    "- n_estimators = The number of trees.\n",
    "- max_dept = The maximum depth of a tree, but the deeper the tree, the more complex the model will be and cause an overfit, the maximum value used is usually 6.\n",
    "- learning_rate = This value reduces the weight of new features in each boosting step, preventing overfitting or a local minimum. This number has to be between 0 and 1.\n",
    "- gamma = A regularization term that is related to the model's complexity. It is the smallest amount of loss required for a leaf split to occur.\n",
    "- colsample_bytree = The fraction of columns to be subsampled. It is related to the algorithm's speed and the prevention of overfitting.\n",
    "- subsample = The training instance subsample ratio. When set to 0.5, XGBoost will randomly sample half of the training data before growing trees. This will help to avoid overfitting. \n",
    "- reg_lambda = On weights, there is an L2 regularization term. By increasing this value, the model becomes more conservative.\n",
    "- reg_alpha = L1 regularization on the weights. As lambda, by increasing this value, the model becomes more conservative."
   ]
  },
  {
   "cell_type": "markdown",
   "metadata": {},
   "source": [
    "**Grid Search**\n",
    "\n",
    "We will do hyperparameter tuning using the Search grid, where the search grid works by means of makes a grid over the search space and evaluates the model for all possible hyperparameters. It's good in the sense that it's straightforward and comprehensive. On the negative side, if the search space is large, it may be prohibitively expensive in terms of computation time.\n",
    "\n",
    "Grid search is preferred over randomized search because randomized searches only use a random set of hyperparameters, whereas we want the best combination of parameters."
   ]
  },
  {
   "cell_type": "code",
   "execution_count": 39,
   "metadata": {},
   "outputs": [
    {
     "name": "stdout",
     "output_type": "stream",
     "text": [
      "Fitting 2 folds for each of 63504 candidates, totalling 127008 fits\n"
     ]
    },
    {
     "data": {
      "text/html": [
       "<style>#sk-container-id-1 {color: black;background-color: white;}#sk-container-id-1 pre{padding: 0;}#sk-container-id-1 div.sk-toggleable {background-color: white;}#sk-container-id-1 label.sk-toggleable__label {cursor: pointer;display: block;width: 100%;margin-bottom: 0;padding: 0.3em;box-sizing: border-box;text-align: center;}#sk-container-id-1 label.sk-toggleable__label-arrow:before {content: \"▸\";float: left;margin-right: 0.25em;color: #696969;}#sk-container-id-1 label.sk-toggleable__label-arrow:hover:before {color: black;}#sk-container-id-1 div.sk-estimator:hover label.sk-toggleable__label-arrow:before {color: black;}#sk-container-id-1 div.sk-toggleable__content {max-height: 0;max-width: 0;overflow: hidden;text-align: left;background-color: #f0f8ff;}#sk-container-id-1 div.sk-toggleable__content pre {margin: 0.2em;color: black;border-radius: 0.25em;background-color: #f0f8ff;}#sk-container-id-1 input.sk-toggleable__control:checked~div.sk-toggleable__content {max-height: 200px;max-width: 100%;overflow: auto;}#sk-container-id-1 input.sk-toggleable__control:checked~label.sk-toggleable__label-arrow:before {content: \"▾\";}#sk-container-id-1 div.sk-estimator input.sk-toggleable__control:checked~label.sk-toggleable__label {background-color: #d4ebff;}#sk-container-id-1 div.sk-label input.sk-toggleable__control:checked~label.sk-toggleable__label {background-color: #d4ebff;}#sk-container-id-1 input.sk-hidden--visually {border: 0;clip: rect(1px 1px 1px 1px);clip: rect(1px, 1px, 1px, 1px);height: 1px;margin: -1px;overflow: hidden;padding: 0;position: absolute;width: 1px;}#sk-container-id-1 div.sk-estimator {font-family: monospace;background-color: #f0f8ff;border: 1px dotted black;border-radius: 0.25em;box-sizing: border-box;margin-bottom: 0.5em;}#sk-container-id-1 div.sk-estimator:hover {background-color: #d4ebff;}#sk-container-id-1 div.sk-parallel-item::after {content: \"\";width: 100%;border-bottom: 1px solid gray;flex-grow: 1;}#sk-container-id-1 div.sk-label:hover label.sk-toggleable__label {background-color: #d4ebff;}#sk-container-id-1 div.sk-serial::before {content: \"\";position: absolute;border-left: 1px solid gray;box-sizing: border-box;top: 0;bottom: 0;left: 50%;z-index: 0;}#sk-container-id-1 div.sk-serial {display: flex;flex-direction: column;align-items: center;background-color: white;padding-right: 0.2em;padding-left: 0.2em;position: relative;}#sk-container-id-1 div.sk-item {position: relative;z-index: 1;}#sk-container-id-1 div.sk-parallel {display: flex;align-items: stretch;justify-content: center;background-color: white;position: relative;}#sk-container-id-1 div.sk-item::before, #sk-container-id-1 div.sk-parallel-item::before {content: \"\";position: absolute;border-left: 1px solid gray;box-sizing: border-box;top: 0;bottom: 0;left: 50%;z-index: -1;}#sk-container-id-1 div.sk-parallel-item {display: flex;flex-direction: column;z-index: 1;position: relative;background-color: white;}#sk-container-id-1 div.sk-parallel-item:first-child::after {align-self: flex-end;width: 50%;}#sk-container-id-1 div.sk-parallel-item:last-child::after {align-self: flex-start;width: 50%;}#sk-container-id-1 div.sk-parallel-item:only-child::after {width: 0;}#sk-container-id-1 div.sk-dashed-wrapped {border: 1px dashed gray;margin: 0 0.4em 0.5em 0.4em;box-sizing: border-box;padding-bottom: 0.4em;background-color: white;}#sk-container-id-1 div.sk-label label {font-family: monospace;font-weight: bold;display: inline-block;line-height: 1.2em;}#sk-container-id-1 div.sk-label-container {text-align: center;}#sk-container-id-1 div.sk-container {/* jupyter's `normalize.less` sets `[hidden] { display: none; }` but bootstrap.min.css set `[hidden] { display: none !important; }` so we also need the `!important` here to be able to override the default hidden behavior on the sphinx rendered scikit-learn.org. See: https://github.com/scikit-learn/scikit-learn/issues/21755 */display: inline-block !important;position: relative;}#sk-container-id-1 div.sk-text-repr-fallback {display: none;}</style><div id=\"sk-container-id-1\" class=\"sk-top-container\"><div class=\"sk-text-repr-fallback\"><pre>GridSearchCV(cv=KFold(n_splits=2, random_state=None, shuffle=False),\n",
       "             estimator=Pipeline(steps=[(&#x27;prep&#x27;,\n",
       "                                        ColumnTransformer(transformers=[(&#x27;numeric&#x27;,\n",
       "                                                                         Pipeline(steps=[(&#x27;Scaler&#x27;,\n",
       "                                                                                          StandardScaler()),\n",
       "                                                                                         (&#x27;Power&#x27;,\n",
       "                                                                                          PowerTransformer())]),\n",
       "                                                                         [&#x27;N_FacilitiesNearBy(ETC)&#x27;,\n",
       "                                                                          &#x27;N_FacilitiesNearBy(PublicOffice)&#x27;,\n",
       "                                                                          &#x27;N_SchoolNearBy(University)&#x27;,\n",
       "                                                                          &#x27;N_Parkinglot(Basement)&#x27;,\n",
       "                                                                          &#x27;YearBuilt&#x27;,\n",
       "                                                                          &#x27;N_F...\n",
       "                         &#x27;algo__gamma&#x27;: array([1.e-03, 1.e-02, 1.e-01, 1.e+00, 1.e+01, 1.e+02]),\n",
       "                         &#x27;algo__learning_rate&#x27;: array([0.001, 0.01 , 0.1  , 1.   ]),\n",
       "                         &#x27;algo__max_depth&#x27;: [1, 2, 3],\n",
       "                         &#x27;algo__n_estimators&#x27;: [100, 150],\n",
       "                         &#x27;algo__reg_alpha&#x27;: array([1.e-03, 1.e-02, 1.e-01, 1.e+00, 1.e+01, 1.e+02, 1.e+03]),\n",
       "                         &#x27;algo__reg_lambda&#x27;: array([1.e-03, 1.e-02, 1.e-01, 1.e+00, 1.e+01, 1.e+02, 1.e+03]),\n",
       "                         &#x27;algo__subsample&#x27;: [0.3, 0.5, 0.7]},\n",
       "             scoring=&#x27;r2&#x27;, verbose=1)</pre><b>In a Jupyter environment, please rerun this cell to show the HTML representation or trust the notebook. <br />On GitHub, the HTML representation is unable to render, please try loading this page with nbviewer.org.</b></div><div class=\"sk-container\" hidden><div class=\"sk-item sk-dashed-wrapped\"><div class=\"sk-label-container\"><div class=\"sk-label sk-toggleable\"><input class=\"sk-toggleable__control sk-hidden--visually\" id=\"sk-estimator-id-1\" type=\"checkbox\" ><label for=\"sk-estimator-id-1\" class=\"sk-toggleable__label sk-toggleable__label-arrow\">GridSearchCV</label><div class=\"sk-toggleable__content\"><pre>GridSearchCV(cv=KFold(n_splits=2, random_state=None, shuffle=False),\n",
       "             estimator=Pipeline(steps=[(&#x27;prep&#x27;,\n",
       "                                        ColumnTransformer(transformers=[(&#x27;numeric&#x27;,\n",
       "                                                                         Pipeline(steps=[(&#x27;Scaler&#x27;,\n",
       "                                                                                          StandardScaler()),\n",
       "                                                                                         (&#x27;Power&#x27;,\n",
       "                                                                                          PowerTransformer())]),\n",
       "                                                                         [&#x27;N_FacilitiesNearBy(ETC)&#x27;,\n",
       "                                                                          &#x27;N_FacilitiesNearBy(PublicOffice)&#x27;,\n",
       "                                                                          &#x27;N_SchoolNearBy(University)&#x27;,\n",
       "                                                                          &#x27;N_Parkinglot(Basement)&#x27;,\n",
       "                                                                          &#x27;YearBuilt&#x27;,\n",
       "                                                                          &#x27;N_F...\n",
       "                         &#x27;algo__gamma&#x27;: array([1.e-03, 1.e-02, 1.e-01, 1.e+00, 1.e+01, 1.e+02]),\n",
       "                         &#x27;algo__learning_rate&#x27;: array([0.001, 0.01 , 0.1  , 1.   ]),\n",
       "                         &#x27;algo__max_depth&#x27;: [1, 2, 3],\n",
       "                         &#x27;algo__n_estimators&#x27;: [100, 150],\n",
       "                         &#x27;algo__reg_alpha&#x27;: array([1.e-03, 1.e-02, 1.e-01, 1.e+00, 1.e+01, 1.e+02, 1.e+03]),\n",
       "                         &#x27;algo__reg_lambda&#x27;: array([1.e-03, 1.e-02, 1.e-01, 1.e+00, 1.e+01, 1.e+02, 1.e+03]),\n",
       "                         &#x27;algo__subsample&#x27;: [0.3, 0.5, 0.7]},\n",
       "             scoring=&#x27;r2&#x27;, verbose=1)</pre></div></div></div><div class=\"sk-parallel\"><div class=\"sk-parallel-item\"><div class=\"sk-item\"><div class=\"sk-label-container\"><div class=\"sk-label sk-toggleable\"><input class=\"sk-toggleable__control sk-hidden--visually\" id=\"sk-estimator-id-2\" type=\"checkbox\" ><label for=\"sk-estimator-id-2\" class=\"sk-toggleable__label sk-toggleable__label-arrow\">estimator: Pipeline</label><div class=\"sk-toggleable__content\"><pre>Pipeline(steps=[(&#x27;prep&#x27;,\n",
       "                 ColumnTransformer(transformers=[(&#x27;numeric&#x27;,\n",
       "                                                  Pipeline(steps=[(&#x27;Scaler&#x27;,\n",
       "                                                                   StandardScaler()),\n",
       "                                                                  (&#x27;Power&#x27;,\n",
       "                                                                   PowerTransformer())]),\n",
       "                                                  [&#x27;N_FacilitiesNearBy(ETC)&#x27;,\n",
       "                                                   &#x27;N_FacilitiesNearBy(PublicOffice)&#x27;,\n",
       "                                                   &#x27;N_SchoolNearBy(University)&#x27;,\n",
       "                                                   &#x27;N_Parkinglot(Basement)&#x27;,\n",
       "                                                   &#x27;YearBuilt&#x27;,\n",
       "                                                   &#x27;N_FacilitiesInApt&#x27;,\n",
       "                                                   &#x27;Size(sqf)&#x27;]),\n",
       "                                                 (&#x27;categoric_OHE&#x27;,\n",
       "                                                  Pipeline(steps=[(&#x27;One Hot&#x27;,\n",
       "                                                                   One...\n",
       "                              gamma=None, gpu_id=None, grow_policy=None,\n",
       "                              importance_type=None,\n",
       "                              interaction_constraints=None, learning_rate=None,\n",
       "                              max_bin=None, max_cat_to_onehot=None,\n",
       "                              max_delta_step=None, max_depth=None,\n",
       "                              max_leaves=None, min_child_weight=None,\n",
       "                              missing=nan, monotone_constraints=None,\n",
       "                              n_estimators=100, n_jobs=None,\n",
       "                              num_parallel_tree=None, predictor=None,\n",
       "                              random_state=99, reg_alpha=None, reg_lambda=None, ...))])</pre></div></div></div><div class=\"sk-serial\"><div class=\"sk-item\"><div class=\"sk-serial\"><div class=\"sk-item sk-dashed-wrapped\"><div class=\"sk-label-container\"><div class=\"sk-label sk-toggleable\"><input class=\"sk-toggleable__control sk-hidden--visually\" id=\"sk-estimator-id-3\" type=\"checkbox\" ><label for=\"sk-estimator-id-3\" class=\"sk-toggleable__label sk-toggleable__label-arrow\">prep: ColumnTransformer</label><div class=\"sk-toggleable__content\"><pre>ColumnTransformer(transformers=[(&#x27;numeric&#x27;,\n",
       "                                 Pipeline(steps=[(&#x27;Scaler&#x27;, StandardScaler()),\n",
       "                                                 (&#x27;Power&#x27;,\n",
       "                                                  PowerTransformer())]),\n",
       "                                 [&#x27;N_FacilitiesNearBy(ETC)&#x27;,\n",
       "                                  &#x27;N_FacilitiesNearBy(PublicOffice)&#x27;,\n",
       "                                  &#x27;N_SchoolNearBy(University)&#x27;,\n",
       "                                  &#x27;N_Parkinglot(Basement)&#x27;, &#x27;YearBuilt&#x27;,\n",
       "                                  &#x27;N_FacilitiesInApt&#x27;, &#x27;Size(sqf)&#x27;]),\n",
       "                                (&#x27;categoric_OHE&#x27;,\n",
       "                                 Pipeline(steps=[(&#x27;One Hot&#x27;,\n",
       "                                                  OneHotEncoder(drop=&#x27;first&#x27;,\n",
       "                                                                handle_unknown=&#x27;ignore&#x27;))]),\n",
       "                                 [&#x27;HallwayType&#x27;, &#x27;SubwayStation&#x27;]),\n",
       "                                (&#x27;categoric_Ordinal&#x27;,\n",
       "                                 Pipeline(steps=[(&#x27;Ordinal&#x27;,\n",
       "                                                  OrdinalEncoder(mapping=[{&#x27;col&#x27;: &#x27;TimeToSubway&#x27;,\n",
       "                                                                           &#x27;mapping&#x27;: {&#x27;0-5min&#x27;: 4,\n",
       "                                                                                       &#x27;10min~15min&#x27;: 2,\n",
       "                                                                                       &#x27;15min~20min&#x27;: 1,\n",
       "                                                                                       &#x27;5min~10min&#x27;: 3,\n",
       "                                                                                       &#x27;no_bus_stop_nearby&#x27;: 0}}]))]),\n",
       "                                 [&#x27;TimeToSubway&#x27;])])</pre></div></div></div><div class=\"sk-parallel\"><div class=\"sk-parallel-item\"><div class=\"sk-item\"><div class=\"sk-label-container\"><div class=\"sk-label sk-toggleable\"><input class=\"sk-toggleable__control sk-hidden--visually\" id=\"sk-estimator-id-4\" type=\"checkbox\" ><label for=\"sk-estimator-id-4\" class=\"sk-toggleable__label sk-toggleable__label-arrow\">numeric</label><div class=\"sk-toggleable__content\"><pre>[&#x27;N_FacilitiesNearBy(ETC)&#x27;, &#x27;N_FacilitiesNearBy(PublicOffice)&#x27;, &#x27;N_SchoolNearBy(University)&#x27;, &#x27;N_Parkinglot(Basement)&#x27;, &#x27;YearBuilt&#x27;, &#x27;N_FacilitiesInApt&#x27;, &#x27;Size(sqf)&#x27;]</pre></div></div></div><div class=\"sk-serial\"><div class=\"sk-item\"><div class=\"sk-serial\"><div class=\"sk-item\"><div class=\"sk-estimator sk-toggleable\"><input class=\"sk-toggleable__control sk-hidden--visually\" id=\"sk-estimator-id-5\" type=\"checkbox\" ><label for=\"sk-estimator-id-5\" class=\"sk-toggleable__label sk-toggleable__label-arrow\">StandardScaler</label><div class=\"sk-toggleable__content\"><pre>StandardScaler()</pre></div></div></div><div class=\"sk-item\"><div class=\"sk-estimator sk-toggleable\"><input class=\"sk-toggleable__control sk-hidden--visually\" id=\"sk-estimator-id-6\" type=\"checkbox\" ><label for=\"sk-estimator-id-6\" class=\"sk-toggleable__label sk-toggleable__label-arrow\">PowerTransformer</label><div class=\"sk-toggleable__content\"><pre>PowerTransformer()</pre></div></div></div></div></div></div></div></div><div class=\"sk-parallel-item\"><div class=\"sk-item\"><div class=\"sk-label-container\"><div class=\"sk-label sk-toggleable\"><input class=\"sk-toggleable__control sk-hidden--visually\" id=\"sk-estimator-id-7\" type=\"checkbox\" ><label for=\"sk-estimator-id-7\" class=\"sk-toggleable__label sk-toggleable__label-arrow\">categoric_OHE</label><div class=\"sk-toggleable__content\"><pre>[&#x27;HallwayType&#x27;, &#x27;SubwayStation&#x27;]</pre></div></div></div><div class=\"sk-serial\"><div class=\"sk-item\"><div class=\"sk-serial\"><div class=\"sk-item\"><div class=\"sk-estimator sk-toggleable\"><input class=\"sk-toggleable__control sk-hidden--visually\" id=\"sk-estimator-id-8\" type=\"checkbox\" ><label for=\"sk-estimator-id-8\" class=\"sk-toggleable__label sk-toggleable__label-arrow\">OneHotEncoder</label><div class=\"sk-toggleable__content\"><pre>OneHotEncoder(drop=&#x27;first&#x27;, handle_unknown=&#x27;ignore&#x27;)</pre></div></div></div></div></div></div></div></div><div class=\"sk-parallel-item\"><div class=\"sk-item\"><div class=\"sk-label-container\"><div class=\"sk-label sk-toggleable\"><input class=\"sk-toggleable__control sk-hidden--visually\" id=\"sk-estimator-id-9\" type=\"checkbox\" ><label for=\"sk-estimator-id-9\" class=\"sk-toggleable__label sk-toggleable__label-arrow\">categoric_Ordinal</label><div class=\"sk-toggleable__content\"><pre>[&#x27;TimeToSubway&#x27;]</pre></div></div></div><div class=\"sk-serial\"><div class=\"sk-item\"><div class=\"sk-serial\"><div class=\"sk-item\"><div class=\"sk-estimator sk-toggleable\"><input class=\"sk-toggleable__control sk-hidden--visually\" id=\"sk-estimator-id-10\" type=\"checkbox\" ><label for=\"sk-estimator-id-10\" class=\"sk-toggleable__label sk-toggleable__label-arrow\">OrdinalEncoder</label><div class=\"sk-toggleable__content\"><pre>OrdinalEncoder(mapping=[{&#x27;col&#x27;: &#x27;TimeToSubway&#x27;,\n",
       "                         &#x27;mapping&#x27;: {&#x27;0-5min&#x27;: 4, &#x27;10min~15min&#x27;: 2,\n",
       "                                     &#x27;15min~20min&#x27;: 1, &#x27;5min~10min&#x27;: 3,\n",
       "                                     &#x27;no_bus_stop_nearby&#x27;: 0}}])</pre></div></div></div></div></div></div></div></div></div></div><div class=\"sk-item\"><div class=\"sk-estimator sk-toggleable\"><input class=\"sk-toggleable__control sk-hidden--visually\" id=\"sk-estimator-id-11\" type=\"checkbox\" ><label for=\"sk-estimator-id-11\" class=\"sk-toggleable__label sk-toggleable__label-arrow\">XGBRegressor</label><div class=\"sk-toggleable__content\"><pre>XGBRegressor(base_score=None, booster=None, callbacks=None,\n",
       "             colsample_bylevel=None, colsample_bynode=None,\n",
       "             colsample_bytree=None, early_stopping_rounds=None,\n",
       "             enable_categorical=False, eval_metric=None, gamma=None,\n",
       "             gpu_id=None, grow_policy=None, importance_type=None,\n",
       "             interaction_constraints=None, learning_rate=None, max_bin=None,\n",
       "             max_cat_to_onehot=None, max_delta_step=None, max_depth=None,\n",
       "             max_leaves=None, min_child_weight=None, missing=nan,\n",
       "             monotone_constraints=None, n_estimators=100, n_jobs=None,\n",
       "             num_parallel_tree=None, predictor=None, random_state=99,\n",
       "             reg_alpha=None, reg_lambda=None, ...)</pre></div></div></div></div></div></div></div></div></div></div></div></div>"
      ],
      "text/plain": [
       "GridSearchCV(cv=KFold(n_splits=2, random_state=None, shuffle=False),\n",
       "             estimator=Pipeline(steps=[('prep',\n",
       "                                        ColumnTransformer(transformers=[('numeric',\n",
       "                                                                         Pipeline(steps=[('Scaler',\n",
       "                                                                                          StandardScaler()),\n",
       "                                                                                         ('Power',\n",
       "                                                                                          PowerTransformer())]),\n",
       "                                                                         ['N_FacilitiesNearBy(ETC)',\n",
       "                                                                          'N_FacilitiesNearBy(PublicOffice)',\n",
       "                                                                          'N_SchoolNearBy(University)',\n",
       "                                                                          'N_Parkinglot(Basement)',\n",
       "                                                                          'YearBuilt',\n",
       "                                                                          'N_F...\n",
       "                         'algo__gamma': array([1.e-03, 1.e-02, 1.e-01, 1.e+00, 1.e+01, 1.e+02]),\n",
       "                         'algo__learning_rate': array([0.001, 0.01 , 0.1  , 1.   ]),\n",
       "                         'algo__max_depth': [1, 2, 3],\n",
       "                         'algo__n_estimators': [100, 150],\n",
       "                         'algo__reg_alpha': array([1.e-03, 1.e-02, 1.e-01, 1.e+00, 1.e+01, 1.e+02, 1.e+03]),\n",
       "                         'algo__reg_lambda': array([1.e-03, 1.e-02, 1.e-01, 1.e+00, 1.e+01, 1.e+02, 1.e+03]),\n",
       "                         'algo__subsample': [0.3, 0.5, 0.7]},\n",
       "             scoring='r2', verbose=1)"
      ]
     },
     "execution_count": 39,
     "metadata": {},
     "output_type": "execute_result"
    }
   ],
   "source": [
    "# Defines pipelines on XGBoost models\n",
    "estimator_xgb = Pipeline([\n",
    "    ('prep', preprocessor),\n",
    "    ('algo', XGBRegressor(random_state=99))\n",
    "])\n",
    "\n",
    "# Define number of folds\n",
    "kf = KFold(n_splits=2)\n",
    "\n",
    "# Do a grid search CV\n",
    "XGB_GS = GridSearchCV(estimator_xgb, \n",
    "                    param_XGB, \n",
    "                    cv= kf, \n",
    "                    n_jobs=-1, \n",
    "                    verbose=1, \n",
    "                    scoring='r2'\n",
    "                    )\n",
    "\n",
    "# Fitting data training \n",
    "XGB_GS.fit(X_train, y_train)"
   ]
  },
  {
   "cell_type": "code",
   "execution_count": 40,
   "metadata": {},
   "outputs": [
    {
     "name": "stdout",
     "output_type": "stream",
     "text": [
      "Best Tuning Score :  0.8307462518494848\n",
      "Best Parameter :  {'algo__colsample_bytree': 0.5, 'algo__gamma': 0.001, 'algo__learning_rate': 0.1, 'algo__max_depth': 3, 'algo__n_estimators': 150, 'algo__reg_alpha': 1000.0, 'algo__reg_lambda': 1.0, 'algo__subsample': 0.7}\n"
     ]
    }
   ],
   "source": [
    "# Shows the best score as well as the best combination of parameters used\n",
    "print(\"Best Tuning Score : \",XGB_GS.best_score_)\n",
    "print(\"Best Parameter : \",XGB_GS.best_params_)"
   ]
  },
  {
   "cell_type": "code",
   "execution_count": 41,
   "metadata": {},
   "outputs": [],
   "source": [
    "# Declaration of XGB_GS_Tuned variables that contains the best paramater combinations \n",
    "XGB_GS_Tuned = XGB_GS.best_estimator_"
   ]
  },
  {
   "cell_type": "code",
   "execution_count": 58,
   "metadata": {},
   "outputs": [],
   "source": [
    "# Create an evaluation matrix function\n",
    "def Eva_Matrix_Base(model, X_train, X_test, y_train, y_test, Nama):\n",
    "    Model = model.fit(X_train, y_train)\n",
    "    y_pred_tr = Model.predict(X_train)\n",
    "    R2_train = r2_score(y_train, y_pred_tr)\n",
    "    MAE_train = mean_absolute_error(y_train, y_pred_tr)\n",
    "    MAPE_train = mean_absolute_percentage_error(y_train, y_pred_tr)\n",
    "    y_pred_ts = Model.predict(X_test)\n",
    "    R2_test = r2_score(y_test, y_pred_ts)\n",
    "    MAE_test = mean_absolute_error(y_test, y_pred_ts)\n",
    "    MAPE_test = mean_absolute_percentage_error(y_test, y_pred_ts)\n",
    "    eva_data = {\n",
    "    \"Training\" + Nama : [R2_train, MAE_train, MAPE_train ],\n",
    "    \"Testing\" + Nama : [R2_test, MAE_test, MAPE_test, ],\n",
    "    }\n",
    "    df = pd.DataFrame(eva_data, index=['R2', 'MAE', 'MAPE'])\n",
    "        \n",
    "    return df"
   ]
  },
  {
   "cell_type": "code",
   "execution_count": 59,
   "metadata": {},
   "outputs": [
    {
     "data": {
      "text/html": [
       "<div>\n",
       "<style scoped>\n",
       "    .dataframe tbody tr th:only-of-type {\n",
       "        vertical-align: middle;\n",
       "    }\n",
       "\n",
       "    .dataframe tbody tr th {\n",
       "        vertical-align: top;\n",
       "    }\n",
       "\n",
       "    .dataframe thead th {\n",
       "        text-align: right;\n",
       "    }\n",
       "</style>\n",
       "<table border=\"1\" class=\"dataframe\">\n",
       "  <thead>\n",
       "    <tr style=\"text-align: right;\">\n",
       "      <th></th>\n",
       "      <th>TrainingXGB GS Tuned</th>\n",
       "      <th>TestingXGB GS Tuned</th>\n",
       "    </tr>\n",
       "  </thead>\n",
       "  <tbody>\n",
       "    <tr>\n",
       "      <th>R2</th>\n",
       "      <td>0.840008</td>\n",
       "      <td>0.839132</td>\n",
       "    </tr>\n",
       "    <tr>\n",
       "      <th>MAE</th>\n",
       "      <td>32704.413216</td>\n",
       "      <td>32618.404003</td>\n",
       "    </tr>\n",
       "    <tr>\n",
       "      <th>MAPE</th>\n",
       "      <td>0.180425</td>\n",
       "      <td>0.179097</td>\n",
       "    </tr>\n",
       "  </tbody>\n",
       "</table>\n",
       "</div>"
      ],
      "text/plain": [
       "      TrainingXGB GS Tuned  TestingXGB GS Tuned\n",
       "R2                0.840008             0.839132\n",
       "MAE           32704.413216         32618.404003\n",
       "MAPE              0.180425             0.179097"
      ]
     },
     "execution_count": 59,
     "metadata": {},
     "output_type": "execute_result"
    }
   ],
   "source": [
    "# Perform XGB model testing after tuning with data testing \n",
    "df_XGB_GS_Tuned = Eva_Matrix_Base(XGB_GS_Tuned, X_train, X_test, y_train, y_test, 'XGB GS Tuned')\n",
    "df_XGB_GS_Tuned"
   ]
  },
  {
   "cell_type": "markdown",
   "metadata": {},
   "source": [
    "From the results of the evaluation matrix, we can see that the results of the R2 Score value from the XGBosst model on the training data are 0.84 and in the testing data of 0.839."
   ]
  },
  {
   "cell_type": "markdown",
   "metadata": {},
   "source": [
    "**4.2. Decision Tree Algorithm**"
   ]
  },
  {
   "cell_type": "markdown",
   "metadata": {},
   "source": [
    "Next, we will hyperparameter tuning the Decision Tree algorithm"
   ]
  },
  {
   "cell_type": "code",
   "execution_count": 44,
   "metadata": {},
   "outputs": [],
   "source": [
    "# defines Decision Tree parameter\n",
    "param_dt = {\n",
    "    \n",
    "    \"algo__max_features\" : np.arange(0.1,1,0.1),\n",
    "    \"algo__max_depth\": np.arange(2,20),\n",
    "    \"algo__min_samples_split\" : np.arange(2,20),\n",
    "    \"algo__min_samples_leaf\"  : np.arange(1,20),\n",
    "    \n",
    "}"
   ]
  },
  {
   "cell_type": "markdown",
   "metadata": {},
   "source": [
    "**Hyperparameter on Decision Tree**\n",
    "\n",
    "- max_features = Maximum number of features taken into account when splitting a node.\n",
    "- max_depth = Each decision tree has a maximum number of levels.\n",
    "- min_samples_split  = The minimum number of data points that can be placed in a node before it is split.\n",
    "- min_samples_leaf = A leaf node can only have a certain number of data points.\n"
   ]
  },
  {
   "cell_type": "code",
   "execution_count": 45,
   "metadata": {},
   "outputs": [
    {
     "name": "stdout",
     "output_type": "stream",
     "text": [
      "Fitting 2 folds for each of 55404 candidates, totalling 110808 fits\n"
     ]
    },
    {
     "data": {
      "text/html": [
       "<style>#sk-container-id-2 {color: black;background-color: white;}#sk-container-id-2 pre{padding: 0;}#sk-container-id-2 div.sk-toggleable {background-color: white;}#sk-container-id-2 label.sk-toggleable__label {cursor: pointer;display: block;width: 100%;margin-bottom: 0;padding: 0.3em;box-sizing: border-box;text-align: center;}#sk-container-id-2 label.sk-toggleable__label-arrow:before {content: \"▸\";float: left;margin-right: 0.25em;color: #696969;}#sk-container-id-2 label.sk-toggleable__label-arrow:hover:before {color: black;}#sk-container-id-2 div.sk-estimator:hover label.sk-toggleable__label-arrow:before {color: black;}#sk-container-id-2 div.sk-toggleable__content {max-height: 0;max-width: 0;overflow: hidden;text-align: left;background-color: #f0f8ff;}#sk-container-id-2 div.sk-toggleable__content pre {margin: 0.2em;color: black;border-radius: 0.25em;background-color: #f0f8ff;}#sk-container-id-2 input.sk-toggleable__control:checked~div.sk-toggleable__content {max-height: 200px;max-width: 100%;overflow: auto;}#sk-container-id-2 input.sk-toggleable__control:checked~label.sk-toggleable__label-arrow:before {content: \"▾\";}#sk-container-id-2 div.sk-estimator input.sk-toggleable__control:checked~label.sk-toggleable__label {background-color: #d4ebff;}#sk-container-id-2 div.sk-label input.sk-toggleable__control:checked~label.sk-toggleable__label {background-color: #d4ebff;}#sk-container-id-2 input.sk-hidden--visually {border: 0;clip: rect(1px 1px 1px 1px);clip: rect(1px, 1px, 1px, 1px);height: 1px;margin: -1px;overflow: hidden;padding: 0;position: absolute;width: 1px;}#sk-container-id-2 div.sk-estimator {font-family: monospace;background-color: #f0f8ff;border: 1px dotted black;border-radius: 0.25em;box-sizing: border-box;margin-bottom: 0.5em;}#sk-container-id-2 div.sk-estimator:hover {background-color: #d4ebff;}#sk-container-id-2 div.sk-parallel-item::after {content: \"\";width: 100%;border-bottom: 1px solid gray;flex-grow: 1;}#sk-container-id-2 div.sk-label:hover label.sk-toggleable__label {background-color: #d4ebff;}#sk-container-id-2 div.sk-serial::before {content: \"\";position: absolute;border-left: 1px solid gray;box-sizing: border-box;top: 0;bottom: 0;left: 50%;z-index: 0;}#sk-container-id-2 div.sk-serial {display: flex;flex-direction: column;align-items: center;background-color: white;padding-right: 0.2em;padding-left: 0.2em;position: relative;}#sk-container-id-2 div.sk-item {position: relative;z-index: 1;}#sk-container-id-2 div.sk-parallel {display: flex;align-items: stretch;justify-content: center;background-color: white;position: relative;}#sk-container-id-2 div.sk-item::before, #sk-container-id-2 div.sk-parallel-item::before {content: \"\";position: absolute;border-left: 1px solid gray;box-sizing: border-box;top: 0;bottom: 0;left: 50%;z-index: -1;}#sk-container-id-2 div.sk-parallel-item {display: flex;flex-direction: column;z-index: 1;position: relative;background-color: white;}#sk-container-id-2 div.sk-parallel-item:first-child::after {align-self: flex-end;width: 50%;}#sk-container-id-2 div.sk-parallel-item:last-child::after {align-self: flex-start;width: 50%;}#sk-container-id-2 div.sk-parallel-item:only-child::after {width: 0;}#sk-container-id-2 div.sk-dashed-wrapped {border: 1px dashed gray;margin: 0 0.4em 0.5em 0.4em;box-sizing: border-box;padding-bottom: 0.4em;background-color: white;}#sk-container-id-2 div.sk-label label {font-family: monospace;font-weight: bold;display: inline-block;line-height: 1.2em;}#sk-container-id-2 div.sk-label-container {text-align: center;}#sk-container-id-2 div.sk-container {/* jupyter's `normalize.less` sets `[hidden] { display: none; }` but bootstrap.min.css set `[hidden] { display: none !important; }` so we also need the `!important` here to be able to override the default hidden behavior on the sphinx rendered scikit-learn.org. See: https://github.com/scikit-learn/scikit-learn/issues/21755 */display: inline-block !important;position: relative;}#sk-container-id-2 div.sk-text-repr-fallback {display: none;}</style><div id=\"sk-container-id-2\" class=\"sk-top-container\"><div class=\"sk-text-repr-fallback\"><pre>GridSearchCV(cv=KFold(n_splits=2, random_state=None, shuffle=False),\n",
       "             estimator=Pipeline(steps=[(&#x27;prep&#x27;,\n",
       "                                        ColumnTransformer(transformers=[(&#x27;numeric&#x27;,\n",
       "                                                                         Pipeline(steps=[(&#x27;Scaler&#x27;,\n",
       "                                                                                          StandardScaler()),\n",
       "                                                                                         (&#x27;Power&#x27;,\n",
       "                                                                                          PowerTransformer())]),\n",
       "                                                                         [&#x27;N_FacilitiesNearBy(ETC)&#x27;,\n",
       "                                                                          &#x27;N_FacilitiesNearBy(PublicOffice)&#x27;,\n",
       "                                                                          &#x27;N_SchoolNearBy(University)&#x27;,\n",
       "                                                                          &#x27;N_Parkinglot(Basement)&#x27;,\n",
       "                                                                          &#x27;YearBuilt&#x27;,\n",
       "                                                                          &#x27;N_F...\n",
       "                                        DecisionTreeRegressor(random_state=99))]),\n",
       "             n_jobs=-1,\n",
       "             param_grid={&#x27;algo__max_depth&#x27;: array([ 2,  3,  4,  5,  6,  7,  8,  9, 10, 11, 12, 13, 14, 15, 16, 17, 18,\n",
       "       19]),\n",
       "                         &#x27;algo__max_features&#x27;: array([0.1, 0.2, 0.3, 0.4, 0.5, 0.6, 0.7, 0.8, 0.9]),\n",
       "                         &#x27;algo__min_samples_leaf&#x27;: array([ 1,  2,  3,  4,  5,  6,  7,  8,  9, 10, 11, 12, 13, 14, 15, 16, 17,\n",
       "       18, 19]),\n",
       "                         &#x27;algo__min_samples_split&#x27;: array([ 2,  3,  4,  5,  6,  7,  8,  9, 10, 11, 12, 13, 14, 15, 16, 17, 18,\n",
       "       19])},\n",
       "             scoring=&#x27;r2&#x27;, verbose=1)</pre><b>In a Jupyter environment, please rerun this cell to show the HTML representation or trust the notebook. <br />On GitHub, the HTML representation is unable to render, please try loading this page with nbviewer.org.</b></div><div class=\"sk-container\" hidden><div class=\"sk-item sk-dashed-wrapped\"><div class=\"sk-label-container\"><div class=\"sk-label sk-toggleable\"><input class=\"sk-toggleable__control sk-hidden--visually\" id=\"sk-estimator-id-12\" type=\"checkbox\" ><label for=\"sk-estimator-id-12\" class=\"sk-toggleable__label sk-toggleable__label-arrow\">GridSearchCV</label><div class=\"sk-toggleable__content\"><pre>GridSearchCV(cv=KFold(n_splits=2, random_state=None, shuffle=False),\n",
       "             estimator=Pipeline(steps=[(&#x27;prep&#x27;,\n",
       "                                        ColumnTransformer(transformers=[(&#x27;numeric&#x27;,\n",
       "                                                                         Pipeline(steps=[(&#x27;Scaler&#x27;,\n",
       "                                                                                          StandardScaler()),\n",
       "                                                                                         (&#x27;Power&#x27;,\n",
       "                                                                                          PowerTransformer())]),\n",
       "                                                                         [&#x27;N_FacilitiesNearBy(ETC)&#x27;,\n",
       "                                                                          &#x27;N_FacilitiesNearBy(PublicOffice)&#x27;,\n",
       "                                                                          &#x27;N_SchoolNearBy(University)&#x27;,\n",
       "                                                                          &#x27;N_Parkinglot(Basement)&#x27;,\n",
       "                                                                          &#x27;YearBuilt&#x27;,\n",
       "                                                                          &#x27;N_F...\n",
       "                                        DecisionTreeRegressor(random_state=99))]),\n",
       "             n_jobs=-1,\n",
       "             param_grid={&#x27;algo__max_depth&#x27;: array([ 2,  3,  4,  5,  6,  7,  8,  9, 10, 11, 12, 13, 14, 15, 16, 17, 18,\n",
       "       19]),\n",
       "                         &#x27;algo__max_features&#x27;: array([0.1, 0.2, 0.3, 0.4, 0.5, 0.6, 0.7, 0.8, 0.9]),\n",
       "                         &#x27;algo__min_samples_leaf&#x27;: array([ 1,  2,  3,  4,  5,  6,  7,  8,  9, 10, 11, 12, 13, 14, 15, 16, 17,\n",
       "       18, 19]),\n",
       "                         &#x27;algo__min_samples_split&#x27;: array([ 2,  3,  4,  5,  6,  7,  8,  9, 10, 11, 12, 13, 14, 15, 16, 17, 18,\n",
       "       19])},\n",
       "             scoring=&#x27;r2&#x27;, verbose=1)</pre></div></div></div><div class=\"sk-parallel\"><div class=\"sk-parallel-item\"><div class=\"sk-item\"><div class=\"sk-label-container\"><div class=\"sk-label sk-toggleable\"><input class=\"sk-toggleable__control sk-hidden--visually\" id=\"sk-estimator-id-13\" type=\"checkbox\" ><label for=\"sk-estimator-id-13\" class=\"sk-toggleable__label sk-toggleable__label-arrow\">estimator: Pipeline</label><div class=\"sk-toggleable__content\"><pre>Pipeline(steps=[(&#x27;prep&#x27;,\n",
       "                 ColumnTransformer(transformers=[(&#x27;numeric&#x27;,\n",
       "                                                  Pipeline(steps=[(&#x27;Scaler&#x27;,\n",
       "                                                                   StandardScaler()),\n",
       "                                                                  (&#x27;Power&#x27;,\n",
       "                                                                   PowerTransformer())]),\n",
       "                                                  [&#x27;N_FacilitiesNearBy(ETC)&#x27;,\n",
       "                                                   &#x27;N_FacilitiesNearBy(PublicOffice)&#x27;,\n",
       "                                                   &#x27;N_SchoolNearBy(University)&#x27;,\n",
       "                                                   &#x27;N_Parkinglot(Basement)&#x27;,\n",
       "                                                   &#x27;YearBuilt&#x27;,\n",
       "                                                   &#x27;N_FacilitiesInApt&#x27;,\n",
       "                                                   &#x27;Size(sqf)&#x27;]),\n",
       "                                                 (&#x27;categoric_OHE&#x27;,\n",
       "                                                  Pipeline(steps=[(&#x27;One Hot&#x27;,\n",
       "                                                                   OneHotEncoder(drop=&#x27;first&#x27;,\n",
       "                                                                                 handle_unknown=&#x27;ignore&#x27;))]),\n",
       "                                                  [&#x27;HallwayType&#x27;,\n",
       "                                                   &#x27;SubwayStation&#x27;]),\n",
       "                                                 (&#x27;categoric_Ordinal&#x27;,\n",
       "                                                  Pipeline(steps=[(&#x27;Ordinal&#x27;,\n",
       "                                                                   OrdinalEncoder(mapping=[{&#x27;col&#x27;: &#x27;TimeToSubway&#x27;,\n",
       "                                                                                            &#x27;mapping&#x27;: {&#x27;0-5min&#x27;: 4,\n",
       "                                                                                                        &#x27;10min~15min&#x27;: 2,\n",
       "                                                                                                        &#x27;15min~20min&#x27;: 1,\n",
       "                                                                                                        &#x27;5min~10min&#x27;: 3,\n",
       "                                                                                                        &#x27;no_bus_stop_nearby&#x27;: 0}}]))]),\n",
       "                                                  [&#x27;TimeToSubway&#x27;])])),\n",
       "                (&#x27;algo&#x27;, DecisionTreeRegressor(random_state=99))])</pre></div></div></div><div class=\"sk-serial\"><div class=\"sk-item\"><div class=\"sk-serial\"><div class=\"sk-item sk-dashed-wrapped\"><div class=\"sk-label-container\"><div class=\"sk-label sk-toggleable\"><input class=\"sk-toggleable__control sk-hidden--visually\" id=\"sk-estimator-id-14\" type=\"checkbox\" ><label for=\"sk-estimator-id-14\" class=\"sk-toggleable__label sk-toggleable__label-arrow\">prep: ColumnTransformer</label><div class=\"sk-toggleable__content\"><pre>ColumnTransformer(transformers=[(&#x27;numeric&#x27;,\n",
       "                                 Pipeline(steps=[(&#x27;Scaler&#x27;, StandardScaler()),\n",
       "                                                 (&#x27;Power&#x27;,\n",
       "                                                  PowerTransformer())]),\n",
       "                                 [&#x27;N_FacilitiesNearBy(ETC)&#x27;,\n",
       "                                  &#x27;N_FacilitiesNearBy(PublicOffice)&#x27;,\n",
       "                                  &#x27;N_SchoolNearBy(University)&#x27;,\n",
       "                                  &#x27;N_Parkinglot(Basement)&#x27;, &#x27;YearBuilt&#x27;,\n",
       "                                  &#x27;N_FacilitiesInApt&#x27;, &#x27;Size(sqf)&#x27;]),\n",
       "                                (&#x27;categoric_OHE&#x27;,\n",
       "                                 Pipeline(steps=[(&#x27;One Hot&#x27;,\n",
       "                                                  OneHotEncoder(drop=&#x27;first&#x27;,\n",
       "                                                                handle_unknown=&#x27;ignore&#x27;))]),\n",
       "                                 [&#x27;HallwayType&#x27;, &#x27;SubwayStation&#x27;]),\n",
       "                                (&#x27;categoric_Ordinal&#x27;,\n",
       "                                 Pipeline(steps=[(&#x27;Ordinal&#x27;,\n",
       "                                                  OrdinalEncoder(mapping=[{&#x27;col&#x27;: &#x27;TimeToSubway&#x27;,\n",
       "                                                                           &#x27;mapping&#x27;: {&#x27;0-5min&#x27;: 4,\n",
       "                                                                                       &#x27;10min~15min&#x27;: 2,\n",
       "                                                                                       &#x27;15min~20min&#x27;: 1,\n",
       "                                                                                       &#x27;5min~10min&#x27;: 3,\n",
       "                                                                                       &#x27;no_bus_stop_nearby&#x27;: 0}}]))]),\n",
       "                                 [&#x27;TimeToSubway&#x27;])])</pre></div></div></div><div class=\"sk-parallel\"><div class=\"sk-parallel-item\"><div class=\"sk-item\"><div class=\"sk-label-container\"><div class=\"sk-label sk-toggleable\"><input class=\"sk-toggleable__control sk-hidden--visually\" id=\"sk-estimator-id-15\" type=\"checkbox\" ><label for=\"sk-estimator-id-15\" class=\"sk-toggleable__label sk-toggleable__label-arrow\">numeric</label><div class=\"sk-toggleable__content\"><pre>[&#x27;N_FacilitiesNearBy(ETC)&#x27;, &#x27;N_FacilitiesNearBy(PublicOffice)&#x27;, &#x27;N_SchoolNearBy(University)&#x27;, &#x27;N_Parkinglot(Basement)&#x27;, &#x27;YearBuilt&#x27;, &#x27;N_FacilitiesInApt&#x27;, &#x27;Size(sqf)&#x27;]</pre></div></div></div><div class=\"sk-serial\"><div class=\"sk-item\"><div class=\"sk-serial\"><div class=\"sk-item\"><div class=\"sk-estimator sk-toggleable\"><input class=\"sk-toggleable__control sk-hidden--visually\" id=\"sk-estimator-id-16\" type=\"checkbox\" ><label for=\"sk-estimator-id-16\" class=\"sk-toggleable__label sk-toggleable__label-arrow\">StandardScaler</label><div class=\"sk-toggleable__content\"><pre>StandardScaler()</pre></div></div></div><div class=\"sk-item\"><div class=\"sk-estimator sk-toggleable\"><input class=\"sk-toggleable__control sk-hidden--visually\" id=\"sk-estimator-id-17\" type=\"checkbox\" ><label for=\"sk-estimator-id-17\" class=\"sk-toggleable__label sk-toggleable__label-arrow\">PowerTransformer</label><div class=\"sk-toggleable__content\"><pre>PowerTransformer()</pre></div></div></div></div></div></div></div></div><div class=\"sk-parallel-item\"><div class=\"sk-item\"><div class=\"sk-label-container\"><div class=\"sk-label sk-toggleable\"><input class=\"sk-toggleable__control sk-hidden--visually\" id=\"sk-estimator-id-18\" type=\"checkbox\" ><label for=\"sk-estimator-id-18\" class=\"sk-toggleable__label sk-toggleable__label-arrow\">categoric_OHE</label><div class=\"sk-toggleable__content\"><pre>[&#x27;HallwayType&#x27;, &#x27;SubwayStation&#x27;]</pre></div></div></div><div class=\"sk-serial\"><div class=\"sk-item\"><div class=\"sk-serial\"><div class=\"sk-item\"><div class=\"sk-estimator sk-toggleable\"><input class=\"sk-toggleable__control sk-hidden--visually\" id=\"sk-estimator-id-19\" type=\"checkbox\" ><label for=\"sk-estimator-id-19\" class=\"sk-toggleable__label sk-toggleable__label-arrow\">OneHotEncoder</label><div class=\"sk-toggleable__content\"><pre>OneHotEncoder(drop=&#x27;first&#x27;, handle_unknown=&#x27;ignore&#x27;)</pre></div></div></div></div></div></div></div></div><div class=\"sk-parallel-item\"><div class=\"sk-item\"><div class=\"sk-label-container\"><div class=\"sk-label sk-toggleable\"><input class=\"sk-toggleable__control sk-hidden--visually\" id=\"sk-estimator-id-20\" type=\"checkbox\" ><label for=\"sk-estimator-id-20\" class=\"sk-toggleable__label sk-toggleable__label-arrow\">categoric_Ordinal</label><div class=\"sk-toggleable__content\"><pre>[&#x27;TimeToSubway&#x27;]</pre></div></div></div><div class=\"sk-serial\"><div class=\"sk-item\"><div class=\"sk-serial\"><div class=\"sk-item\"><div class=\"sk-estimator sk-toggleable\"><input class=\"sk-toggleable__control sk-hidden--visually\" id=\"sk-estimator-id-21\" type=\"checkbox\" ><label for=\"sk-estimator-id-21\" class=\"sk-toggleable__label sk-toggleable__label-arrow\">OrdinalEncoder</label><div class=\"sk-toggleable__content\"><pre>OrdinalEncoder(mapping=[{&#x27;col&#x27;: &#x27;TimeToSubway&#x27;,\n",
       "                         &#x27;mapping&#x27;: {&#x27;0-5min&#x27;: 4, &#x27;10min~15min&#x27;: 2,\n",
       "                                     &#x27;15min~20min&#x27;: 1, &#x27;5min~10min&#x27;: 3,\n",
       "                                     &#x27;no_bus_stop_nearby&#x27;: 0}}])</pre></div></div></div></div></div></div></div></div></div></div><div class=\"sk-item\"><div class=\"sk-estimator sk-toggleable\"><input class=\"sk-toggleable__control sk-hidden--visually\" id=\"sk-estimator-id-22\" type=\"checkbox\" ><label for=\"sk-estimator-id-22\" class=\"sk-toggleable__label sk-toggleable__label-arrow\">DecisionTreeRegressor</label><div class=\"sk-toggleable__content\"><pre>DecisionTreeRegressor(random_state=99)</pre></div></div></div></div></div></div></div></div></div></div></div></div>"
      ],
      "text/plain": [
       "GridSearchCV(cv=KFold(n_splits=2, random_state=None, shuffle=False),\n",
       "             estimator=Pipeline(steps=[('prep',\n",
       "                                        ColumnTransformer(transformers=[('numeric',\n",
       "                                                                         Pipeline(steps=[('Scaler',\n",
       "                                                                                          StandardScaler()),\n",
       "                                                                                         ('Power',\n",
       "                                                                                          PowerTransformer())]),\n",
       "                                                                         ['N_FacilitiesNearBy(ETC)',\n",
       "                                                                          'N_FacilitiesNearBy(PublicOffice)',\n",
       "                                                                          'N_SchoolNearBy(University)',\n",
       "                                                                          'N_Parkinglot(Basement)',\n",
       "                                                                          'YearBuilt',\n",
       "                                                                          'N_F...\n",
       "                                        DecisionTreeRegressor(random_state=99))]),\n",
       "             n_jobs=-1,\n",
       "             param_grid={'algo__max_depth': array([ 2,  3,  4,  5,  6,  7,  8,  9, 10, 11, 12, 13, 14, 15, 16, 17, 18,\n",
       "       19]),\n",
       "                         'algo__max_features': array([0.1, 0.2, 0.3, 0.4, 0.5, 0.6, 0.7, 0.8, 0.9]),\n",
       "                         'algo__min_samples_leaf': array([ 1,  2,  3,  4,  5,  6,  7,  8,  9, 10, 11, 12, 13, 14, 15, 16, 17,\n",
       "       18, 19]),\n",
       "                         'algo__min_samples_split': array([ 2,  3,  4,  5,  6,  7,  8,  9, 10, 11, 12, 13, 14, 15, 16, 17, 18,\n",
       "       19])},\n",
       "             scoring='r2', verbose=1)"
      ]
     },
     "execution_count": 45,
     "metadata": {},
     "output_type": "execute_result"
    }
   ],
   "source": [
    "# Defines pipelines on XGBoost models\n",
    "estimator_dt = Pipeline([\n",
    "    ('prep', preprocessor),\n",
    "    ('algo', DecisionTreeRegressor(random_state=99))\n",
    "])\n",
    "\n",
    "# Define number of folds\n",
    "kf = KFold(n_splits=2)\n",
    "\n",
    "# Do a grid search CV\n",
    "DT_GS = GridSearchCV(estimator_dt, \n",
    "                    param_dt, \n",
    "                    cv= kf, \n",
    "                    n_jobs=-1, \n",
    "                    verbose=1, \n",
    "                    scoring='r2'\n",
    "                    )\n",
    "\n",
    "# Fitting data training \n",
    "DT_GS.fit(X_train, y_train)\n"
   ]
  },
  {
   "cell_type": "code",
   "execution_count": 46,
   "metadata": {},
   "outputs": [
    {
     "name": "stdout",
     "output_type": "stream",
     "text": [
      "Best Tuning Score :  0.8280842893500049\n",
      "Best Parameter :  {'algo__max_depth': 11, 'algo__max_features': 0.9, 'algo__min_samples_leaf': 1, 'algo__min_samples_split': 17}\n"
     ]
    }
   ],
   "source": [
    "# Shows the best score as well as the best combination of parameters used\n",
    "print(\"Best Tuning Score : \",DT_GS.best_score_)\n",
    "print(\"Best Parameter : \",DT_GS.best_params_)"
   ]
  },
  {
   "cell_type": "code",
   "execution_count": 47,
   "metadata": {},
   "outputs": [],
   "source": [
    "# Declaration of DT_GS_Tuned variables that contains the best paramater combinations \n",
    "DT_GS_Tuned = DT_GS.best_estimator_"
   ]
  },
  {
   "cell_type": "code",
   "execution_count": 60,
   "metadata": {},
   "outputs": [],
   "source": [
    "# Perform Decision Tree model testing after tuning with data testing \n",
    "df_DT_GS_Tuned = Eva_Matrix_Base(DT_GS_Tuned, X_train, X_test, y_train, y_test, 'DT GS Tuned')"
   ]
  },
  {
   "cell_type": "code",
   "execution_count": 61,
   "metadata": {},
   "outputs": [
    {
     "data": {
      "text/html": [
       "<div>\n",
       "<style scoped>\n",
       "    .dataframe tbody tr th:only-of-type {\n",
       "        vertical-align: middle;\n",
       "    }\n",
       "\n",
       "    .dataframe tbody tr th {\n",
       "        vertical-align: top;\n",
       "    }\n",
       "\n",
       "    .dataframe thead th {\n",
       "        text-align: right;\n",
       "    }\n",
       "</style>\n",
       "<table border=\"1\" class=\"dataframe\">\n",
       "  <thead>\n",
       "    <tr style=\"text-align: right;\">\n",
       "      <th></th>\n",
       "      <th>TrainingDT GS Tuned</th>\n",
       "      <th>TestingDT GS Tuned</th>\n",
       "    </tr>\n",
       "  </thead>\n",
       "  <tbody>\n",
       "    <tr>\n",
       "      <th>R2</th>\n",
       "      <td>0.842487</td>\n",
       "      <td>0.838948</td>\n",
       "    </tr>\n",
       "    <tr>\n",
       "      <th>MAE</th>\n",
       "      <td>32277.820263</td>\n",
       "      <td>32457.800865</td>\n",
       "    </tr>\n",
       "    <tr>\n",
       "      <th>MAPE</th>\n",
       "      <td>0.177265</td>\n",
       "      <td>0.176406</td>\n",
       "    </tr>\n",
       "  </tbody>\n",
       "</table>\n",
       "</div>"
      ],
      "text/plain": [
       "      TrainingDT GS Tuned  TestingDT GS Tuned\n",
       "R2               0.842487            0.838948\n",
       "MAE          32277.820263        32457.800865\n",
       "MAPE             0.177265            0.176406"
      ]
     },
     "execution_count": 61,
     "metadata": {},
     "output_type": "execute_result"
    }
   ],
   "source": [
    "df_DT_GS_Tuned"
   ]
  },
  {
   "cell_type": "markdown",
   "metadata": {},
   "source": [
    "From the results of the evaluation matrix, we can see that the results of the R2 Score value from the Decision Tree model on the training data are 0.84 and in the testing data of 0.838."
   ]
  },
  {
   "cell_type": "markdown",
   "metadata": {},
   "source": [
    "**4.3. Evaluation Matrix Comparison**"
   ]
  },
  {
   "cell_type": "code",
   "execution_count": 62,
   "metadata": {},
   "outputs": [
    {
     "data": {
      "text/html": [
       "<div>\n",
       "<style scoped>\n",
       "    .dataframe tbody tr th:only-of-type {\n",
       "        vertical-align: middle;\n",
       "    }\n",
       "\n",
       "    .dataframe tbody tr th {\n",
       "        vertical-align: top;\n",
       "    }\n",
       "\n",
       "    .dataframe thead th {\n",
       "        text-align: right;\n",
       "    }\n",
       "</style>\n",
       "<table border=\"1\" class=\"dataframe\">\n",
       "  <thead>\n",
       "    <tr style=\"text-align: right;\">\n",
       "      <th></th>\n",
       "      <th>TrainingXGB GS Tuned</th>\n",
       "      <th>TestingXGB GS Tuned</th>\n",
       "      <th>TrainingDT GS Tuned</th>\n",
       "      <th>TestingDT GS Tuned</th>\n",
       "    </tr>\n",
       "  </thead>\n",
       "  <tbody>\n",
       "    <tr>\n",
       "      <th>R2</th>\n",
       "      <td>0.840008</td>\n",
       "      <td>0.839132</td>\n",
       "      <td>0.842487</td>\n",
       "      <td>0.838948</td>\n",
       "    </tr>\n",
       "    <tr>\n",
       "      <th>MAE</th>\n",
       "      <td>32704.413216</td>\n",
       "      <td>32618.404003</td>\n",
       "      <td>32277.820263</td>\n",
       "      <td>32457.800865</td>\n",
       "    </tr>\n",
       "    <tr>\n",
       "      <th>MAPE</th>\n",
       "      <td>0.180425</td>\n",
       "      <td>0.179097</td>\n",
       "      <td>0.177265</td>\n",
       "      <td>0.176406</td>\n",
       "    </tr>\n",
       "  </tbody>\n",
       "</table>\n",
       "</div>"
      ],
      "text/plain": [
       "      TrainingXGB GS Tuned  TestingXGB GS Tuned  TrainingDT GS Tuned  \\\n",
       "R2                0.840008             0.839132             0.842487   \n",
       "MAE           32704.413216         32618.404003         32277.820263   \n",
       "MAPE              0.180425             0.179097             0.177265   \n",
       "\n",
       "      TestingDT GS Tuned  \n",
       "R2              0.838948  \n",
       "MAE         32457.800865  \n",
       "MAPE            0.176406  "
      ]
     },
     "execution_count": 62,
     "metadata": {},
     "output_type": "execute_result"
    }
   ],
   "source": [
    "# Show XGBoost and Decision Tree models after tuning\n",
    "pd.concat([df_XGB_GS_Tuned,df_DT_GS_Tuned], axis=1)"
   ]
  },
  {
   "cell_type": "markdown",
   "metadata": {},
   "source": [
    "From the evaluation matrix above, we can see that the best model is XGBoost which has been led to an R2 Score training and testing value of 0.84 and 0.839. Then in the results of testing XGB tuned has an MAE of 32618.4 and MAPE of 0.179."
   ]
  },
  {
   "cell_type": "code",
   "execution_count": 63,
   "metadata": {},
   "outputs": [
    {
     "data": {
      "text/html": [
       "<div>\n",
       "<style scoped>\n",
       "    .dataframe tbody tr th:only-of-type {\n",
       "        vertical-align: middle;\n",
       "    }\n",
       "\n",
       "    .dataframe tbody tr th {\n",
       "        vertical-align: top;\n",
       "    }\n",
       "\n",
       "    .dataframe thead th {\n",
       "        text-align: right;\n",
       "    }\n",
       "</style>\n",
       "<table border=\"1\" class=\"dataframe\">\n",
       "  <thead>\n",
       "    <tr style=\"text-align: right;\">\n",
       "      <th></th>\n",
       "      <th>TrainingXGB GS</th>\n",
       "      <th>TestingXGB GS</th>\n",
       "      <th>TrainingXGB GS Tuned</th>\n",
       "      <th>TestingXGB GS Tuned</th>\n",
       "    </tr>\n",
       "  </thead>\n",
       "  <tbody>\n",
       "    <tr>\n",
       "      <th>R2</th>\n",
       "      <td>0.842692</td>\n",
       "      <td>0.839071</td>\n",
       "      <td>0.840008</td>\n",
       "      <td>0.839132</td>\n",
       "    </tr>\n",
       "    <tr>\n",
       "      <th>MAE</th>\n",
       "      <td>32232.503575</td>\n",
       "      <td>32439.658001</td>\n",
       "      <td>32704.413216</td>\n",
       "      <td>32618.404003</td>\n",
       "    </tr>\n",
       "    <tr>\n",
       "      <th>MAPE</th>\n",
       "      <td>0.176887</td>\n",
       "      <td>0.176515</td>\n",
       "      <td>0.180425</td>\n",
       "      <td>0.179097</td>\n",
       "    </tr>\n",
       "  </tbody>\n",
       "</table>\n",
       "</div>"
      ],
      "text/plain": [
       "      TrainingXGB GS  TestingXGB GS  TrainingXGB GS Tuned  TestingXGB GS Tuned\n",
       "R2          0.842692       0.839071              0.840008             0.839132\n",
       "MAE     32232.503575   32439.658001          32704.413216         32618.404003\n",
       "MAPE        0.176887       0.176515              0.180425             0.179097"
      ]
     },
     "execution_count": 63,
     "metadata": {},
     "output_type": "execute_result"
    }
   ],
   "source": [
    "# Show XGBoost model before and after tuning\n",
    "df_estimator_XGB = Eva_Matrix_Base(estimator_xgb, X_train, X_test, y_train, y_test, 'XGB GS')\n",
    "pd.concat([df_estimator_XGB, df_XGB_GS_Tuned],axis=1)"
   ]
  },
  {
   "cell_type": "markdown",
   "metadata": {},
   "source": [
    "From the results of the evaluation matrix above, we can see that the results of the R2 Score of algortima XGBoost increased after tuning, which was approximately 0.0001 or 0.01% when tested using testing data, but the MAPE value increased by approximately 0.003 or 0.3%. While MAE value decreased."
   ]
  },
  {
   "cell_type": "markdown",
   "metadata": {},
   "source": [
    "**XGBoost**\n",
    "\n",
    "XGBoost is an abbreviation for eXtreme Gradient Boosting. XGBoost is a gradient-driven decision tree implementation that is intended to be efficient and accurate.\n",
    "\n",
    "![xgboost](https://github.com/JeffreyJuinior/Daegu-Apartment-Price-Prediction/blob/main/Images/ilustration_xgboost.png?raw=true)\n",
    "\n",
    "From the illustration above we can see that the XGBoost algorithm works by fixing the residual from the previous prediction results but not from the beginning so as to produce good accuracy and more efficient."
   ]
  },
  {
   "cell_type": "markdown",
   "metadata": {},
   "source": [
    "### **Conclusion**"
   ]
  },
  {
   "cell_type": "markdown",
   "metadata": {},
   "source": [
    "According to the evaluation matrix results, the best model after tuning was XGBoost with an R2 Score value of 0.839 or 83.9%, indicating that the model is quite good at explaining the variation in the Y value.\n",
    "\n",
    "The model also has an average probability of error percentage (MAPE) of 0.179 or 17.9%, which means that the predicted apartment price can deviate from the actual price by 17.77%, which can be higher or lower than the original price. The average apartment price is 32618.4 dollars **off**.\n",
    "\n",
    "The created model also has a limitation in that it can only predict apartments that cost less than 510747$ and have a room area of less than 32397 sqf. The model then only uses data on the prices of apartments in Daegu, South Korea, from 2007 to 2017.\n",
    "\n",
    "**Impact of Implementation**\n",
    "\n",
    "- Traditioanl Valuation \n",
    "\n",
    "    Market researchers take about 2 - 8 weeks to do research related to the best price of 1 apartment unit (Source: [HingeMarketing](https://hingemarketing.com/blog/story/cost_and_benefits_of_market_research) )\n",
    "\n",
    "\n",
    "- Advanced Valuation (machine learning model)\n",
    "\n",
    "    By using machine learning property agents can predict 1 unit Apartment prices in less than 1 day.\n",
    "\n",
    "    "
   ]
  },
  {
   "cell_type": "markdown",
   "metadata": {},
   "source": [
    "### **Recomdendations**"
   ]
  },
  {
   "cell_type": "markdown",
   "metadata": {},
   "source": [
    "The following are recommendations for improving the model's ability to predict apartment prices:\n",
    "\n",
    "1. Including features that have a higher correlation to Sale Price apartments, such as the number of apartment employees (janitor, security, maintenance staff, etc.), the number of apartment floors, information on whether apartment sales include or do not include furniture, and so on.\n",
    "\n",
    "2. Increase the amount of the latest apartment data.\n",
    "\n",
    "3. Try other regression algorithms such as Recursive Neural Network (RNN).\n",
    "\n",
    "4. The current model can be improved by incorporating apartment data from other huge Korean cities such as Seoul and Busan, allowing the model to predict apartment prices in cities other than Daegu."
   ]
  },
  {
   "cell_type": "markdown",
   "metadata": {},
   "source": [
    "### **Save Model**"
   ]
  },
  {
   "cell_type": "code",
   "execution_count": 52,
   "metadata": {},
   "outputs": [],
   "source": [
    "import pickle\n",
    "\n",
    "XGB_GS_Tuned.fit(X_train, y_train)\n",
    "\n",
    "pickle.dump(XGB_GS_Tuned, open('Apartment_Daegu_XGB.sav', 'wb'))"
   ]
  },
  {
   "cell_type": "code",
   "execution_count": null,
   "metadata": {},
   "outputs": [],
   "source": []
  }
 ],
 "metadata": {
  "kernelspec": {
   "display_name": "Python 3.8.8 64-bit",
   "language": "python",
   "name": "python3"
  },
  "language_info": {
   "codemirror_mode": {
    "name": "ipython",
    "version": 3
   },
   "file_extension": ".py",
   "mimetype": "text/x-python",
   "name": "python",
   "nbconvert_exporter": "python",
   "pygments_lexer": "ipython3",
   "version": "3.8.8"
  },
  "orig_nbformat": 4,
  "vscode": {
   "interpreter": {
    "hash": "16e2ba00ecb116d84d759c8994916476a1848709f6949da4f57d56b215b2db71"
   }
  }
 },
 "nbformat": 4,
 "nbformat_minor": 2
}
